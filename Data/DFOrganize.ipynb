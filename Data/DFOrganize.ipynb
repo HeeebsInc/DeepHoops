{
 "cells": [
  {
   "cell_type": "code",
   "execution_count": 1,
   "metadata": {},
   "outputs": [],
   "source": [
    "import pandas as pd \n",
    "import numpy as np\n",
    "from tqdm import tqdm\n",
    "pd.options.display.max_columns = None\n",
    "pd.options.display.max_rows = 200\n",
    "pd.options.mode.chained_assignment = None "
   ]
  },
  {
   "cell_type": "markdown",
   "metadata": {},
   "source": [
    "### Number of Games You Want to Go Back For Averages"
   ]
  },
  {
   "cell_type": "code",
   "execution_count": 2,
   "metadata": {},
   "outputs": [],
   "source": [
    "num_games = 2"
   ]
  },
  {
   "cell_type": "code",
   "execution_count": 3,
   "metadata": {},
   "outputs": [],
   "source": [
    "season_2020 = pd.read_csv('data/Season(2019-20).csv')\n",
    "season_2019 = pd.read_csv('data/Season(2018-19).csv')\n",
    "roto_2020 = pd.read_csv('data/RotoGuru(19-20).csv', delimiter = ':')\n",
    "roto_2019 = pd.read_csv('data/RotoGuru(18-19).csv', delimiter = ':')"
   ]
  },
  {
   "cell_type": "code",
   "execution_count": 4,
   "metadata": {},
   "outputs": [],
   "source": [
    "season18_20 = season_2020.append(season_2019, ignore_index = True)\n",
    "roto18_20 = roto_2020.append(roto_2019, ignore_index = True)"
   ]
  },
  {
   "cell_type": "code",
   "execution_count": 5,
   "metadata": {},
   "outputs": [
    {
     "data": {
      "text/html": [
       "<div>\n",
       "<style scoped>\n",
       "    .dataframe tbody tr th:only-of-type {\n",
       "        vertical-align: middle;\n",
       "    }\n",
       "\n",
       "    .dataframe tbody tr th {\n",
       "        vertical-align: top;\n",
       "    }\n",
       "\n",
       "    .dataframe thead th {\n",
       "        text-align: right;\n",
       "    }\n",
       "</style>\n",
       "<table border=\"1\" class=\"dataframe\">\n",
       "  <thead>\n",
       "    <tr style=\"text-align: right;\">\n",
       "      <th></th>\n",
       "      <th>GID</th>\n",
       "      <th>Last, First</th>\n",
       "      <th>First  Last</th>\n",
       "      <th>Date</th>\n",
       "      <th>Team</th>\n",
       "      <th>Opp</th>\n",
       "      <th>H/A</th>\n",
       "      <th>GameID</th>\n",
       "      <th>GTime(ET)</th>\n",
       "      <th>Team pts</th>\n",
       "      <th>Opp pts</th>\n",
       "      <th>Start</th>\n",
       "      <th>Minutes</th>\n",
       "      <th>GP</th>\n",
       "      <th>active</th>\n",
       "      <th>FDP</th>\n",
       "      <th>DKP</th>\n",
       "      <th>DDP</th>\n",
       "      <th>YHP</th>\n",
       "      <th>Stats</th>\n",
       "      <th>DoubleD</th>\n",
       "      <th>TripleD</th>\n",
       "      <th>FD Sal</th>\n",
       "      <th>FD Change</th>\n",
       "      <th>DK Sal</th>\n",
       "      <th>DK Change</th>\n",
       "      <th>DD Sal</th>\n",
       "      <th>DD Change</th>\n",
       "      <th>YH Sal</th>\n",
       "      <th>YH Change</th>\n",
       "      <th>FD pos</th>\n",
       "      <th>DK pos</th>\n",
       "      <th>DD pos</th>\n",
       "      <th>YH pos</th>\n",
       "      <th>ADI</th>\n",
       "      <th>VMI</th>\n",
       "      <th>Unnamed: 36</th>\n",
       "    </tr>\n",
       "  </thead>\n",
       "  <tbody>\n",
       "    <tr>\n",
       "      <th>0</th>\n",
       "      <td>5679</td>\n",
       "      <td>Eubanks, Drew</td>\n",
       "      <td>Drew Eubanks</td>\n",
       "      <td>20200308</td>\n",
       "      <td>sas</td>\n",
       "      <td>cle</td>\n",
       "      <td>A</td>\n",
       "      <td>20200308-sas-cle</td>\n",
       "      <td>19.5</td>\n",
       "      <td>NaN</td>\n",
       "      <td>NaN</td>\n",
       "      <td>NaN</td>\n",
       "      <td>NaN</td>\n",
       "      <td>NaN</td>\n",
       "      <td>NaN</td>\n",
       "      <td>NaN</td>\n",
       "      <td>NaN</td>\n",
       "      <td>NaN</td>\n",
       "      <td>NaN</td>\n",
       "      <td>NaN</td>\n",
       "      <td>NaN</td>\n",
       "      <td>NaN</td>\n",
       "      <td>3500.0</td>\n",
       "      <td>0.0</td>\n",
       "      <td>3000.0</td>\n",
       "      <td>0.0</td>\n",
       "      <td>NaN</td>\n",
       "      <td>NaN</td>\n",
       "      <td>10.0</td>\n",
       "      <td>0.0</td>\n",
       "      <td>5.0</td>\n",
       "      <td>5.0</td>\n",
       "      <td>NaN</td>\n",
       "      <td>5.0</td>\n",
       "      <td>*</td>\n",
       "      <td>*</td>\n",
       "      <td>NaN</td>\n",
       "    </tr>\n",
       "  </tbody>\n",
       "</table>\n",
       "</div>"
      ],
      "text/plain": [
       "    GID    Last, First   First  Last      Date Team  Opp H/A  \\\n",
       "0  5679  Eubanks, Drew  Drew Eubanks  20200308  sas  cle   A   \n",
       "\n",
       "             GameID  GTime(ET)  Team pts  Opp pts  Start  Minutes  GP  active  \\\n",
       "0  20200308-sas-cle       19.5       NaN      NaN    NaN      NaN NaN     NaN   \n",
       "\n",
       "   FDP  DKP  DDP  YHP Stats  DoubleD  TripleD  FD Sal  FD Change  DK Sal  \\\n",
       "0  NaN  NaN  NaN  NaN   NaN      NaN      NaN  3500.0        0.0  3000.0   \n",
       "\n",
       "   DK Change  DD Sal  DD Change  YH Sal  YH Change  FD pos  DK pos  DD pos  \\\n",
       "0        0.0     NaN        NaN    10.0        0.0     5.0     5.0     NaN   \n",
       "\n",
       "   YH pos ADI VMI  Unnamed: 36  \n",
       "0     5.0   *   *          NaN  "
      ]
     },
     "execution_count": 5,
     "metadata": {},
     "output_type": "execute_result"
    }
   ],
   "source": [
    "roto_2020.head(1)"
   ]
  },
  {
   "cell_type": "markdown",
   "metadata": {},
   "source": [
    "### Merging Fantasy and Roto"
   ]
  },
  {
   "cell_type": "code",
   "execution_count": 6,
   "metadata": {},
   "outputs": [],
   "source": [
    "def organize_roto(r_df): \n",
    "    '''This organizes the rotoguru dataframe so that the columns match the season dataframe.  Also gets rid of whitespaces\n",
    "    and reformats date'''\n",
    "    r_df = r_df[['GameID', 'First  Last', 'Date', 'Team','FDP', 'FD Sal', 'FD Change', 'FD pos']]\n",
    "    r_df['Name'] = np.array(r_df['First  Last'])\n",
    "    r_df['FDS'] = np.array(r_df['FD Sal'])\n",
    "    r_df['FD_change'] = np.array(r_df['FD Change'])\n",
    "    r_df['FD_pos'] = np.array(r_df['FD pos'])\n",
    "    new_df = r_df.drop(['First  Last', 'FD Sal', 'FD Change', 'FD pos'], axis =1)[['GameID', 'Name','Date', 'Team','FDP', 'FDS', 'FD_change', 'FD_pos']]\n",
    "    return new_df\n",
    "\n",
    "def organize_stat(stat_df): \n",
    "    new_df = stat_df\n",
    "    new_df['Team'] = new_df.Team.map(lambda x: x.lower())\n",
    "    new_df['OPP'] = new_df.OPP.map(lambda x: x.lower())\n",
    "    new_df['GameID'] = new_df.GameID.map(lambda x: x.lower())\n",
    "    return new_df\n",
    "def merge_tables(stat_df, roto_df, season):\n",
    "    '''This function will merge the dataframes'''\n",
    "    roto_df = organize_roto(roto_df)\n",
    "    stat_df = organize_stat(stat_df)\n",
    "    merge_df = pd.merge(roto_df, stat_df, on = ['GameID', 'Name', 'Team', 'Date'], how = 'inner')\n",
    "    merge_df = merge_df.sort_values(by = ['GameID', 'Team'])    \n",
    "    merge_df.to_csv(f'NewData/Merge({season})[{num_games}].csv', index = False)\n",
    "    return merge_df\n",
    "merge_2020 = merge_tables(season_2020, roto_2020, '19-20')\n",
    "merge_2019 = merge_tables(season_2019, roto_2019, '18-19')"
   ]
  },
  {
   "cell_type": "code",
   "execution_count": null,
   "metadata": {},
   "outputs": [],
   "source": []
  },
  {
   "cell_type": "markdown",
   "metadata": {},
   "source": [
    "### Getting Averages of Merged DF"
   ]
  },
  {
   "cell_type": "code",
   "execution_count": 7,
   "metadata": {},
   "outputs": [
    {
     "name": "stderr",
     "output_type": "stream",
     "text": [
      "Season 19-20: 100%|█████████████████████████████████████████████████████████████████████████████████████████████████████████████████████████████████████| 471/471 [05:04<00:00,  1.55it/s]\n",
      "Season 18-19: 100%|█████████████████████████████████████████████████████████████████████████████████████████████████████████████████████████████████████| 488/488 [06:55<00:00,  1.18it/s]\n"
     ]
    }
   ],
   "source": [
    "def get_averages(df, season): \n",
    "    '''This function will get the average for specified amount of previous games.  It will also format \n",
    "    the predictive value (next fdp scored) for the NN model'''\n",
    "    col = ['MP', 'FG', 'FGA', 'FG%', '3P', '3PA',\n",
    "                  '3P%', 'FT', 'FTA', 'FT%', 'ORB', 'DRB', 'TRB', 'AST', 'STL', 'BLK',\n",
    "                  'TOV', 'PF', 'PTS', '+-', 'FDP','FDS']\n",
    "    add_col = [f'{num_games}_{i}' for i in col]\n",
    "    new_df = pd.DataFrame(columns = add_col)\n",
    "    player_list = np.array(df.Name.value_counts().index)\n",
    "    for player in tqdm(player_list, desc = f'Season {season}'):\n",
    "        player_df = df[df.Name == player]\n",
    "        player_df = player_df.sort_values(by = 'Date')\n",
    "       \n",
    "        for c in col: \n",
    "            avg = []\n",
    "            for row in range(len(player_df)):\n",
    "                if row < num_games: \n",
    "                    avg.append(None)\n",
    "                    continue \n",
    "                last = player_df.iloc[row-num_games:row][f'{c}'].mean()\n",
    "                avg.append(last)\n",
    "            player_df[f'{num_games}_{c}'] = avg\n",
    "\n",
    "        new_df = new_df.append(player_df,ignore_index = True)\n",
    "        \n",
    "    new_df = new_df[[i for i in new_df.columns.to_list() if i not in add_col] + [i for i in new_df.columns.to_list() if i in add_col]]    \n",
    "    new_df.sort_values(by = ['GameID', 'Team'], inplace = True)\n",
    "    new_df.to_csv(f'NewData/AVG({season})[{num_games}].csv')\n",
    "    return new_df\n",
    "\n",
    "\n",
    "merge_2020 = get_averages(merge_2020, season = '19-20')\n",
    "merge_2019 = get_averages(merge_2019, season = '18-19')"
   ]
  },
  {
   "cell_type": "code",
   "execution_count": 15,
   "metadata": {},
   "outputs": [],
   "source": [
    "merge_2020.append(merge_2019, ignore_index = True).to_csv(f'CompleteMerge(2018-2020)[{num_games}].csv')"
   ]
  },
  {
   "cell_type": "code",
   "execution_count": null,
   "metadata": {},
   "outputs": [],
   "source": []
  }
 ],
 "metadata": {
  "kernelspec": {
   "display_name": "Python 3",
   "language": "python",
   "name": "python3"
  },
  "language_info": {
   "codemirror_mode": {
    "name": "ipython",
    "version": 3
   },
   "file_extension": ".py",
   "mimetype": "text/x-python",
   "name": "python",
   "nbconvert_exporter": "python",
   "pygments_lexer": "ipython3",
   "version": "3.7.6"
  }
 },
 "nbformat": 4,
 "nbformat_minor": 4
}
