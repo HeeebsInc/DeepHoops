{
 "cells": [
  {
   "cell_type": "code",
   "execution_count": 42,
   "id": "numeric-lemon",
   "metadata": {},
   "outputs": [],
   "source": [
    "from sklearn.model_selection import train_test_split\n",
    "from sklearn.preprocessing import StandardScaler\n",
    "import pandas as pd\n",
    "import os\n",
    "import numpy as np\n",
    "import pickle\n",
    "from tqdm import  tqdm\n",
    "\n",
    "pd.options.mode.chained_assignment = None\n",
    "pd.options.display.min_rows = 50"
   ]
  },
  {
   "cell_type": "code",
   "execution_count": 43,
   "id": "united-yugoslavia",
   "metadata": {},
   "outputs": [
    {
     "name": "stdout",
     "output_type": "stream",
     "text": [
      "(78023, 33)\n",
      "Index(['GID', 'Player', 'Date', 'Team', 'Against', 'Home', 'GameID',\n",
      "       'GameTime', 'TeamPoints', 'OppPoints', 'Starting', 'Minutes',\n",
      "       'Appeared', 'Active', 'FDP', 'DKP', 'DDP', 'YHP', 'Stats', 'DoubleD',\n",
      "       'TripleD', 'FDSal', 'FDChange', 'DKSal', 'DKChange', 'DDSal',\n",
      "       'DDChange', 'YHSal', 'YHChange', 'FDPos', 'DKPos', 'DDPos', 'YHPos'],\n",
      "      dtype='object')\n"
     ]
    }
   ],
   "source": [
    "data_dir = f'/home/samuel-linux/PycharmProjects/Personal/FantasyBasketball/Data'\n",
    "pickle_dir = f'{data_dir}/pickles'\n",
    "\n",
    "original_df = pd.read_csv(f'{data_dir}/roto-files/cleaned/Combined.csv')\n",
    "print(original_df.shape)\n",
    "print(original_df.columns)"
   ]
  },
  {
   "cell_type": "code",
   "execution_count": 44,
   "id": "nervous-istanbul",
   "metadata": {},
   "outputs": [
    {
     "name": "stderr",
     "output_type": "stream",
     "text": [
      "Filling in NA Values: 100%|██████████| 1888/1888 [00:08<00:00, 232.21it/s]\n"
     ]
    }
   ],
   "source": [
    "columns = ['Player', 'Date', 'FDP', 'FDSal']\n",
    "df = original_df[[i for i in columns]]\n",
    "# print(df.info())\n",
    "\n",
    "df_none = df[(df.FDP.isnull()) | (df.FDSal.isnull())]\n",
    "\n",
    "pbar = tqdm(df_none.iterrows(), total = len(df_none), desc = 'Filling in NA Values')\n",
    "\n",
    "for idx, row in pbar:\n",
    "    player = row.Player\n",
    "    player_df = df[df.Player == player]\n",
    "    if str(row.FDP) == 'nan':\n",
    "        mean_fdp = player_df.FDP.mean()\n",
    "        if str(mean_fdp) == 'nan':\n",
    "            mean_fdp = None\n",
    "        else:\n",
    "            mean_fdp = round(mean_fdp, 2)\n",
    "        df.loc[idx, 'FDP'] = mean_fdp\n",
    "    \n",
    "    if str(row.FDSal) == 'nan':\n",
    "        mean_fdsal = player_df.FDSal.mean()\n",
    "        if str(mean_fdsal) == 'nan':\n",
    "            mean_fdsal = None\n",
    "        else:\n",
    "            mean_fdsal = round(mean_fdsal, 2)\n",
    "        df.loc[idx, 'FDSal'] = mean_fdsal          \n",
    "pbar.close()\n",
    "\n",
    "df.dropna(inplace = True)"
   ]
  },
  {
   "cell_type": "code",
   "execution_count": 49,
   "id": "typical-twist",
   "metadata": {},
   "outputs": [
    {
     "name": "stderr",
     "output_type": "stream",
     "text": [
      "Shifting the DF w/ timestep 1: Drew Eubanks:   0%|          | 0/689 [00:00<?, ?it/s]\n"
     ]
    }
   ],
   "source": [
    "def create_timestep(df, columns, timestep):\n",
    "    df.Date = pd.to_datetime(df.Date)\n",
    "    df_copy = df.copy()\n",
    "    pieces = []\n",
    "    unique_players = df.Player.unique()\n",
    "    pbar = tqdm(unique_players)\n",
    "    for player in pbar: \n",
    "        pbar.set_description(f'Shifting the DF w/ timestep {timestep}: {player}')\n",
    "        player_df = df[df.Player == player]\n",
    "        player_df = player_df.sort_values(by = 'Date', ascending = True)\n",
    "        unique_years = df.Date.dt.strftime('%y').unique()\n",
    "        for year in unique_years:\n",
    "            player_year_df = player_df[player_df.Date.dt.strftime('%y') == year]\n",
    "            if len(player_year_df) == 0:\n",
    "                continue           \n",
    "            for column in columns:\n",
    "                player_year_df[column] = StandardScaler().fit_transform(player_year_df[column].values.reshape(-1,1))\n",
    "                for step in range(1, timestep + 1):\n",
    "                    player_year_df[f'{column}_{step}'] = player_year_df[column].shift(-step)\n",
    "            pieces.append(player_year_df)\n",
    "        break\n",
    "    pbar.close()\n",
    "    full_df = pd.concat(pieces)\n",
    "    full_df.sort_values(by = 'Date', inplace = True)\n",
    "    full_df.to_csv(f'shifted-data/RotoShifted_{timestep}.csv', index = False)\n",
    "    return full_df\n",
    "\n",
    "\n",
    "df_dict = {}\n",
    "for timestep in range(1, 21):       \n",
    "    df_dict[timestep] = create_timestep(df, ['FDP'], timestep) \n",
    "    break"
   ]
  },
  {
   "cell_type": "code",
   "execution_count": 52,
   "id": "identified-possession",
   "metadata": {},
   "outputs": [],
   "source": [
    "# df_dict[1]"
   ]
  },
  {
   "cell_type": "code",
   "execution_count": null,
   "id": "portable-joshua",
   "metadata": {},
   "outputs": [],
   "source": [
    "from sklearn.model_selection import train_test_split\n",
    "from sklearn.preprocessing import StandardScaler\n",
    "\n",
    "\n",
    "df_split_dict = {}\n",
    "for timestep, df in df_dict.items():\n",
    "    X_df = df[[i for i in df.columns if '_' in i]]\n",
    "    Y_df = df[['FDP']]"
   ]
  },
  {
   "cell_type": "code",
   "execution_count": null,
   "id": "recorded-zimbabwe",
   "metadata": {},
   "outputs": [],
   "source": []
  },
  {
   "cell_type": "code",
   "execution_count": null,
   "id": "unknown-cricket",
   "metadata": {},
   "outputs": [],
   "source": []
  },
  {
   "cell_type": "code",
   "execution_count": 30,
   "id": "molecular-blogger",
   "metadata": {},
   "outputs": [
    {
     "name": "stdout",
     "output_type": "stream",
     "text": [
      "<class 'pandas.core.frame.DataFrame'>\n",
      "Int64Index: 172 entries, 34221 to 77002\n",
      "Data columns (total 7 columns):\n",
      " #   Column  Non-Null Count  Dtype         \n",
      "---  ------  --------------  -----         \n",
      " 0   Player  172 non-null    object        \n",
      " 1   Date    172 non-null    datetime64[ns]\n",
      " 2   FDP     172 non-null    float64       \n",
      " 3   FDSal   172 non-null    float64       \n",
      " 4   FDP_1   172 non-null    float64       \n",
      " 5   FDP_2   172 non-null    float64       \n",
      " 6   FDP_3   172 non-null    float64       \n",
      "dtypes: datetime64[ns](1), float64(5), object(1)\n",
      "memory usage: 10.8+ KB\n"
     ]
    },
    {
     "data": {
      "text/plain": [
       "(None, (172, 7))"
      ]
     },
     "execution_count": 30,
     "metadata": {},
     "output_type": "execute_result"
    }
   ],
   "source": [
    "shifted_df.info(), shifted_df.shape"
   ]
  },
  {
   "cell_type": "code",
   "execution_count": 31,
   "id": "second-recommendation",
   "metadata": {},
   "outputs": [
    {
     "data": {
      "text/plain": [
       "(172, 172)"
      ]
     },
     "execution_count": 31,
     "metadata": {},
     "output_type": "execute_result"
    }
   ],
   "source": [
    "len(shifted_df), len(df[df.Player == 'Drew Eubanks'])"
   ]
  },
  {
   "cell_type": "code",
   "execution_count": 34,
   "id": "greater-celtic",
   "metadata": {},
   "outputs": [],
   "source": [
    "# shifted_df"
   ]
  },
  {
   "cell_type": "code",
   "execution_count": null,
   "id": "under-leonard",
   "metadata": {},
   "outputs": [],
   "source": [
    "# shifted_df.sort_values(by = 'Date').head(25)"
   ]
  },
  {
   "cell_type": "code",
   "execution_count": null,
   "id": "cognitive-chuck",
   "metadata": {},
   "outputs": [],
   "source": [
    "# test_df = df[df.Player =='Drew Eubanks'].sort_values(by = 'Date')\n",
    "# test_df[test_df.FDP == 9.6]"
   ]
  },
  {
   "cell_type": "code",
   "execution_count": null,
   "id": "tender-thanks",
   "metadata": {},
   "outputs": [],
   "source": [
    "assert False"
   ]
  },
  {
   "cell_type": "code",
   "execution_count": null,
   "id": "nasty-evaluation",
   "metadata": {},
   "outputs": [],
   "source": [
    "\n",
    "\n",
    "subset_df_copy = subset_df.copy()\n",
    "pbar = tqdm(subset_df_copy.iterrows(), total = len(subset_df_copy), desc = 'Filling NA Values')\n",
    "for idx, row in pbar:\n",
    "    player = row.Player\n",
    "    player_df = subset_df[subset_df.Player == player]\n",
    "    \n",
    "    fdp = row.FDP \n",
    "    fdsal = row.FDSal\n",
    "    \n",
    "    if fdp == None:\n",
    "        mean = player_df.dropna(subset = 'FDP', axis = 1).FDP.mean()\n",
    "        print(mean)\n",
    "    \n",
    "    if fdp == None: \n",
    "        pass\n",
    "    \n",
    "    pbar.update(1)\n",
    "pbar.close()"
   ]
  },
  {
   "cell_type": "code",
   "execution_count": null,
   "id": "sixth-graduate",
   "metadata": {},
   "outputs": [],
   "source": []
  }
 ],
 "metadata": {
  "kernelspec": {
   "display_name": "DeepHoops",
   "language": "python",
   "name": "deephoops"
  },
  "language_info": {
   "codemirror_mode": {
    "name": "ipython",
    "version": 3
   },
   "file_extension": ".py",
   "mimetype": "text/x-python",
   "name": "python",
   "nbconvert_exporter": "python",
   "pygments_lexer": "ipython3",
   "version": "3.8.5"
  }
 },
 "nbformat": 4,
 "nbformat_minor": 5
}
