{
 "cells": [
  {
   "cell_type": "code",
   "execution_count": null,
   "metadata": {},
   "outputs": [],
   "source": [
    "from keras.models import Sequential\n",
    "from keras.layers import Dense, Dropout, LSTM\n",
    "from keras.models import model_from_json\n",
    "from sklearn.model_selection import train_test_split\n",
    "from sklearn.preprocessing import MinMaxScaler, StandardScaler\n",
    "from keras.optimizers import Adam\n",
    "import pandas as pd\n",
    "import numpy as np\n",
    "import matplotlib.pyplot as plt\n",
    "\n",
    "\n",
    "\n",
    "pd.options.display.max_columns = None\n",
    "pd.options.display.max_rows = 100\n"
   ]
  },
  {
   "cell_type": "markdown",
   "metadata": {},
   "source": [
    "### Single Feature (FDP)"
   ]
  },
  {
   "cell_type": "code",
   "execution_count": null,
   "metadata": {},
   "outputs": [],
   "source": [
    "num_games = 2 "
   ]
  },
  {
   "cell_type": "code",
   "execution_count": null,
   "metadata": {},
   "outputs": [],
   "source": [
    "season1920 = pd.read_csv(f'../Data/NewData/TimeSeriesSingleFeatures(19-20)[{num_games}].csv')\n",
    "season1819 = pd.read_csv(f'../Data/NewData/TimeSeriesSingleFeatures(18-19)[{num_games}].csv')\n",
    "\n",
    "full_time = season1819.append(season1920, ignore_index = True).sort_values(by = 'Date')\n",
    "full_time.head()"
   ]
  },
  {
   "cell_type": "code",
   "execution_count": null,
   "metadata": {},
   "outputs": [],
   "source": [
    "full_time.shape"
   ]
  },
  {
   "cell_type": "code",
   "execution_count": null,
   "metadata": {},
   "outputs": [],
   "source": []
  },
  {
   "cell_type": "code",
   "execution_count": null,
   "metadata": {},
   "outputs": [],
   "source": [
    "min_max = MinMaxScaler()\n",
    "standard = StandardScaler()\n",
    "x = np.array(full_time[[str(i) for i in list(range(1,11)[::-1])]])\n",
    "x = min_max.fit_transform(x)\n",
    "y = np.array(full_time[['FDP']])\n",
    "x_train, x_test, y_train, y_test = train_test_split(x, y, test_size = .8, random_state = 10)"
   ]
  },
  {
   "cell_type": "code",
   "execution_count": null,
   "metadata": {},
   "outputs": [],
   "source": [
    "x_train = x_train.reshape(x_train.shape[0], x_train.shape[1], 1)\n",
    "x_test = x_test.reshape(x_test.shape[0], x_test.shape[1], 1)\n",
    "print(x_test.shape, x_train.shape)"
   ]
  },
  {
   "cell_type": "code",
   "execution_count": null,
   "metadata": {},
   "outputs": [],
   "source": [
    "def multivar_RNN(x,y, metrics = ['mae']): \n",
    "    model = Sequential()\n",
    "    units = 100\n",
    "    drop = .2\n",
    "\n",
    "#     #2nd type\n",
    "#     model.add(LSTM(units, return_sequences = True, input_dim = x.shape[2], activation = 'relu'))\n",
    "#     model.add(Dropout(drop))\n",
    "#     model.add(LSTM(units = units, return_sequences = True, input_dim = x.shape[2], activation = 'relu'))\n",
    "#     model.add(Dropout(drop))\n",
    "#     model.add(LSTM(units = units, return_sequences = False, input_dim = x.shape[2], activation = 'relu'))\n",
    "#     model.add(Dropout(drop))\n",
    "#     model.add(Dense(1))#, activation = 'linear'))\n",
    "    ADAM = Adam(0.0005, beta_1=0.9, beta_2=0.999, amsgrad=False)\n",
    "\n",
    "\n",
    "\n",
    "    #2nd type\n",
    "    model.add(LSTM(units, return_sequences = True, input_dim = x.shape[2],activation = 'relu'))\n",
    "    model.add(Dropout(drop))\n",
    "    model.add(LSTM(units = units, return_sequences = True, input_dim = x.shape[2], activation = 'relu'))\n",
    "    model.add(Dropout(drop))\n",
    "    model.add(LSTM(units = units, return_sequences = False, input_dim = x.shape[2], activation = 'relu'))\n",
    "    model.add(Dropout(drop))\n",
    "    model.add(Dense(1))\n",
    "    \n",
    "    model.compile(optimizer = ADAM, loss = 'mse', metrics = metrics)\n",
    "    \n",
    "    return model\n",
    "        "
   ]
  },
  {
   "cell_type": "code",
   "execution_count": null,
   "metadata": {},
   "outputs": [],
   "source": [
    "epochs = 100\n",
    "batch_size = 64\n",
    "rnn_model = multivar_RNN(x_train, y_train)\n",
    "rnn_history = rnn_model.fit(x_train, y_train, epochs = epochs, batch_size = batch_size, validation_data = (x_test, y_test))"
   ]
  },
  {
   "cell_type": "code",
   "execution_count": null,
   "metadata": {},
   "outputs": [],
   "source": []
  }
 ],
 "metadata": {
  "kernelspec": {
   "display_name": "Python 3",
   "language": "python",
   "name": "python3"
  },
  "language_info": {
   "codemirror_mode": {
    "name": "ipython",
    "version": 3
   },
   "file_extension": ".py",
   "mimetype": "text/x-python",
   "name": "python",
   "nbconvert_exporter": "python",
   "pygments_lexer": "ipython3",
   "version": "3.7.6"
  }
 },
 "nbformat": 4,
 "nbformat_minor": 4
}
