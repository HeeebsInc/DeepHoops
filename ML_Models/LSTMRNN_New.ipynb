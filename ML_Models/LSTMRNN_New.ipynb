{
 "cells": [
  {
   "cell_type": "code",
   "execution_count": 41,
   "metadata": {},
   "outputs": [],
   "source": [
    "from keras.models import Sequential\n",
    "from keras.layers import Dense, Dropout, LSTM\n",
    "from keras.models import model_from_json\n",
    "from sklearn.model_selection import train_test_split\n",
    "from sklearn.preprocessing import MinMaxScaler, StandardScaler\n",
    "from keras.optimizers import Adam\n",
    "import pandas as pd\n",
    "import numpy as np\n",
    "import matplotlib.pyplot as plt\n",
    "\n",
    "\n",
    "\n",
    "pd.options.display.max_columns = None\n",
    "pd.options.display.max_rows = 100\n"
   ]
  },
  {
   "cell_type": "code",
   "execution_count": 42,
   "metadata": {},
   "outputs": [],
   "source": [
    "num_games = 4 "
   ]
  },
  {
   "cell_type": "markdown",
   "metadata": {},
   "source": [
    "## MultiFeature RNN"
   ]
  },
  {
   "cell_type": "code",
   "execution_count": 54,
   "metadata": {},
   "outputs": [
    {
     "name": "stdout",
     "output_type": "stream",
     "text": [
      "(34336, 13)\n"
     ]
    },
    {
     "data": {
      "text/html": [
       "<div>\n",
       "<style scoped>\n",
       "    .dataframe tbody tr th:only-of-type {\n",
       "        vertical-align: middle;\n",
       "    }\n",
       "\n",
       "    .dataframe tbody tr th {\n",
       "        vertical-align: top;\n",
       "    }\n",
       "\n",
       "    .dataframe thead th {\n",
       "        text-align: right;\n",
       "    }\n",
       "</style>\n",
       "<table border=\"1\" class=\"dataframe\">\n",
       "  <thead>\n",
       "    <tr style=\"text-align: right;\">\n",
       "      <th></th>\n",
       "      <th>Name</th>\n",
       "      <th>Date</th>\n",
       "      <th>FDP</th>\n",
       "      <th>10</th>\n",
       "      <th>9</th>\n",
       "      <th>8</th>\n",
       "      <th>7</th>\n",
       "      <th>6</th>\n",
       "      <th>5</th>\n",
       "      <th>4</th>\n",
       "      <th>3</th>\n",
       "      <th>2</th>\n",
       "      <th>1</th>\n",
       "    </tr>\n",
       "  </thead>\n",
       "  <tbody>\n",
       "    <tr>\n",
       "      <th>167</th>\n",
       "      <td>Kevon Looney</td>\n",
       "      <td>20181113.0</td>\n",
       "      <td>20.1</td>\n",
       "      <td>[0.18877551020408162 0.29846556886227543 0.118...</td>\n",
       "      <td>[0.1673469387755102 0.29890219560878245 0.1016...</td>\n",
       "      <td>[0.08775510204081632 0.2747005988023952 0.1186...</td>\n",
       "      <td>[0.16326530612244897 0.23241017964071856 0.084...</td>\n",
       "      <td>[0.22142857142857142 0.31424650698602796 0.135...</td>\n",
       "      <td>[0.17551020408163265 0.3201097804391218 0.1355...</td>\n",
       "      <td>[0.23775510204081632 0.25742265469061876 0.084...</td>\n",
       "      <td>[0.22448979591836735 0.20852045908183636 0.050...</td>\n",
       "      <td>[0.13877551020408163 0.1458957085828343 0.0169...</td>\n",
       "      <td>[0.26326530612244897 0.12630988023952097 0.016...</td>\n",
       "    </tr>\n",
       "  </tbody>\n",
       "</table>\n",
       "</div>"
      ],
      "text/plain": [
       "             Name        Date   FDP  \\\n",
       "167  Kevon Looney  20181113.0  20.1   \n",
       "\n",
       "                                                    10  \\\n",
       "167  [0.18877551020408162 0.29846556886227543 0.118...   \n",
       "\n",
       "                                                     9  \\\n",
       "167  [0.1673469387755102 0.29890219560878245 0.1016...   \n",
       "\n",
       "                                                     8  \\\n",
       "167  [0.08775510204081632 0.2747005988023952 0.1186...   \n",
       "\n",
       "                                                     7  \\\n",
       "167  [0.16326530612244897 0.23241017964071856 0.084...   \n",
       "\n",
       "                                                     6  \\\n",
       "167  [0.22142857142857142 0.31424650698602796 0.135...   \n",
       "\n",
       "                                                     5  \\\n",
       "167  [0.17551020408163265 0.3201097804391218 0.1355...   \n",
       "\n",
       "                                                     4  \\\n",
       "167  [0.23775510204081632 0.25742265469061876 0.084...   \n",
       "\n",
       "                                                     3  \\\n",
       "167  [0.22448979591836735 0.20852045908183636 0.050...   \n",
       "\n",
       "                                                     2  \\\n",
       "167  [0.13877551020408163 0.1458957085828343 0.0169...   \n",
       "\n",
       "                                                     1  \n",
       "167  [0.26326530612244897 0.12630988023952097 0.016...  "
      ]
     },
     "execution_count": 54,
     "metadata": {},
     "output_type": "execute_result"
    }
   ],
   "source": [
    "season1920 = pd.read_csv(f'../Data/NewData/TimeSeriesMultFeaturesScaled(19-20)[{num_games}].csv')\n",
    "season1819 =  pd.read_csv(f'../Data/NewData/TimeSeriesMultFeaturesScaled(18-19)[{num_games}].csv')\n",
    "\n",
    "full_time_mult = season1819.append(season1920, ignore_index = True).sort_values(by = 'Date')\n",
    "print(full_time_mult.shape)\n",
    "full_time_mult.head(1)"
   ]
  },
  {
   "cell_type": "code",
   "execution_count": 55,
   "metadata": {},
   "outputs": [],
   "source": [
    "# def create_array(x): \n",
    "#     x = x[1:-1]\n",
    "#     new_x = [float(i) for i in x.split(' ')]\n",
    "#     return np.array(new_x)"
   ]
  },
  {
   "cell_type": "code",
   "execution_count": 56,
   "metadata": {},
   "outputs": [],
   "source": [
    "min_max = MinMaxScaler()\n",
    "standard = StandardScaler()\n",
    "for i in range(1,11): \n",
    "    full_time_mult[f'{i}'] = full_time_mult[f'{i}'].map(create_array)\n",
    "\n",
    "x = np.array(full_time_mult[[str(i) for i in list(range(1,11)[::-1])]]).squeeze().squeeze()\n",
    "#x = min_max.fit_transform(x)\n",
    "# y = np.array(full_time_mult[['FDP']])\n",
    "# x_train, x_test, y_train, y_test = train_test_split(x, y, test_size = .8, random_state = 10)"
   ]
  },
  {
   "cell_type": "code",
   "execution_count": 58,
   "metadata": {},
   "outputs": [
    {
     "name": "stdout",
     "output_type": "stream",
     "text": [
      "(34336, 10)\n"
     ]
    }
   ],
   "source": [
    "print(x.shape)"
   ]
  },
  {
   "cell_type": "code",
   "execution_count": 39,
   "metadata": {},
   "outputs": [
    {
     "data": {
      "text/plain": [
       "((6867, 10), (27469, 10))"
      ]
     },
     "execution_count": 39,
     "metadata": {},
     "output_type": "execute_result"
    }
   ],
   "source": [
    "x_train.shape, x_test.shape"
   ]
  },
  {
   "cell_type": "code",
   "execution_count": null,
   "metadata": {},
   "outputs": [],
   "source": []
  },
  {
   "cell_type": "code",
   "execution_count": 40,
   "metadata": {},
   "outputs": [
    {
     "data": {
      "text/plain": [
       "14"
      ]
     },
     "execution_count": 40,
     "metadata": {},
     "output_type": "execute_result"
    }
   ],
   "source": [
    "len(x_train[0][0])"
   ]
  },
  {
   "cell_type": "code",
   "execution_count": null,
   "metadata": {},
   "outputs": [],
   "source": []
  },
  {
   "cell_type": "code",
   "execution_count": 36,
   "metadata": {},
   "outputs": [
    {
     "ename": "AssertionError",
     "evalue": "",
     "output_type": "error",
     "traceback": [
      "\u001b[1;31m---------------------------------------------------------------------------\u001b[0m",
      "\u001b[1;31mAssertionError\u001b[0m                            Traceback (most recent call last)",
      "\u001b[1;32m<ipython-input-36-a871fdc9ebee>\u001b[0m in \u001b[0;36m<module>\u001b[1;34m\u001b[0m\n\u001b[1;32m----> 1\u001b[1;33m \u001b[1;32massert\u001b[0m \u001b[1;32mFalse\u001b[0m\u001b[1;33m\u001b[0m\u001b[1;33m\u001b[0m\u001b[0m\n\u001b[0m",
      "\u001b[1;31mAssertionError\u001b[0m: "
     ]
    }
   ],
   "source": [
    "assert False"
   ]
  },
  {
   "cell_type": "markdown",
   "metadata": {},
   "source": [
    "### Single Feature (FDP)"
   ]
  },
  {
   "cell_type": "code",
   "execution_count": null,
   "metadata": {},
   "outputs": [],
   "source": [
    "season1920 = pd.read_csv(f'../Data/NewData/TimeSeriesSingleFeatures(19-20)[{num_games}].csv')\n",
    "season1819 = pd.read_csv(f'../Data/NewData/TimeSeriesSingleFeatures(18-19)[{num_games}].csv')\n",
    "\n",
    "full_time = season1819.append(season1920, ignore_index = True).sort_values(by = 'Date')\n",
    "full_time.head()"
   ]
  },
  {
   "cell_type": "code",
   "execution_count": null,
   "metadata": {},
   "outputs": [],
   "source": [
    "full_time.shape"
   ]
  },
  {
   "cell_type": "code",
   "execution_count": null,
   "metadata": {},
   "outputs": [],
   "source": [
    "min_max = MinMaxScaler()\n",
    "standard = StandardScaler()\n",
    "x = np.array(full_time[[str(i) for i in list(range(1,11)[::-1])]])\n",
    "x = min_max.fit_transform(x)\n",
    "y = np.array(full_time[['FDP']])\n",
    "x_train, x_test, y_train, y_test = train_test_split(x, y, test_size = .8, random_state = 10)"
   ]
  },
  {
   "cell_type": "code",
   "execution_count": null,
   "metadata": {},
   "outputs": [],
   "source": [
    "x_train = x_train.reshape(x_train.shape[0], x_train.shape[1], 1)\n",
    "x_test = x_test.reshape(x_test.shape[0], x_test.shape[1], 1)\n",
    "print(x_test.shape, x_train.shape)"
   ]
  },
  {
   "cell_type": "code",
   "execution_count": null,
   "metadata": {},
   "outputs": [],
   "source": [
    "def multivar_RNN(x,y, metrics = ['mae']): \n",
    "    model = Sequential()\n",
    "    units = 32\n",
    "    drop = .3\n",
    "\n",
    "#     #2nd type\n",
    "#     model.add(LSTM(units, return_sequences = True, input_dim = x.shape[2], activation = 'relu'))\n",
    "#     model.add(Dropout(drop))\n",
    "#     model.add(LSTM(units = units, return_sequences = True, input_dim = x.shape[2], activation = 'relu'))\n",
    "#     model.add(Dropout(drop))\n",
    "#     model.add(LSTM(units = units, return_sequences = False, input_dim = x.shape[2], activation = 'relu'))\n",
    "#     model.add(Dropout(drop))\n",
    "#     model.add(Dense(1))#, activation = 'linear'))\n",
    "    ADAM = Adam(0.0005, beta_1=0.9, beta_2=0.999, amsgrad=False)\n",
    "\n",
    "\n",
    "\n",
    "    #2nd type\n",
    "    model.add(LSTM(units, return_sequences = True, input_dim = x.shape[2],activation = 'relu'))\n",
    "    model.add(Dropout(drop))\n",
    "    model.add(LSTM(units = units, return_sequences = True, input_dim = x.shape[2], activation = 'relu'))\n",
    "    model.add(Dropout(drop))\n",
    "    model.add(LSTM(units = units, return_sequences = False, input_dim = x.shape[2], activation = 'relu'))\n",
    "    model.add(Dropout(drop))\n",
    "    model.add(Dense(1))\n",
    "    \n",
    "    model.compile(optimizer = 'adam', loss = 'mse', metrics = metrics)\n",
    "    \n",
    "    return model\n",
    "        "
   ]
  },
  {
   "cell_type": "code",
   "execution_count": null,
   "metadata": {},
   "outputs": [],
   "source": [
    "epochs = 100\n",
    "batch_size = 16\n",
    "rnn_model = multivar_RNN(x_train, y_train)\n",
    "rnn_history = rnn_model.fit(x_train, y_train, epochs = epochs, batch_size = batch_size, validation_data = (x_test, y_test))"
   ]
  },
  {
   "cell_type": "code",
   "execution_count": null,
   "metadata": {},
   "outputs": [],
   "source": []
  }
 ],
 "metadata": {
  "kernelspec": {
   "display_name": "Python 3",
   "language": "python",
   "name": "python3"
  },
  "language_info": {
   "codemirror_mode": {
    "name": "ipython",
    "version": 3
   },
   "file_extension": ".py",
   "mimetype": "text/x-python",
   "name": "python",
   "nbconvert_exporter": "python",
   "pygments_lexer": "ipython3",
   "version": "3.7.6"
  }
 },
 "nbformat": 4,
 "nbformat_minor": 4
}
