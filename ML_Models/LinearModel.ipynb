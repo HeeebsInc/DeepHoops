{
 "cells": [
  {
   "cell_type": "code",
   "execution_count": 1,
   "metadata": {},
   "outputs": [],
   "source": [
    "import pandas as pd\n",
    "import numpy as np\n",
    "import matplotlib.pyplot as plt\n",
    "from sklearn.linear_model import LinearRegression\n",
    "from sklearn.model_selection import train_test_split\n",
    "from sklearn.preprocessing import StandardScaler"
   ]
  },
  {
   "cell_type": "code",
   "execution_count": null,
   "metadata": {},
   "outputs": [],
   "source": [
    "full_df = pd.read_csv(f'../Data/CompleteMerge(2018-2020)[{num_games}].csv')\n",
    "col = ['MP', 'FG', '3P', \n",
    "        'FT', 'TRB', 'AST', 'STL', 'BLK',\n",
    "        'PTS', 'FDP']#, 'FDS']\n",
    "x_col = [f'{num_games}_{i}' for i in col] + ['FDS', 'FD_change']\n",
    "X = np.array(full_df[[i for i in x_col]])\n",
    "y = np.array(full_df[['FDP']])\n"
   ]
  }
 ],
 "metadata": {
  "kernelspec": {
   "display_name": "Python 3",
   "language": "python",
   "name": "python3"
  },
  "language_info": {
   "codemirror_mode": {
    "name": "ipython",
    "version": 3
   },
   "file_extension": ".py",
   "mimetype": "text/x-python",
   "name": "python",
   "nbconvert_exporter": "python",
   "pygments_lexer": "ipython3",
   "version": "3.7.6"
  }
 },
 "nbformat": 4,
 "nbformat_minor": 4
}
