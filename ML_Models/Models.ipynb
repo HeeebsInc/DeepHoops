{
 "cells": [
  {
   "cell_type": "code",
   "execution_count": 1,
   "metadata": {},
   "outputs": [],
   "source": [
    "import pandas as pd\n",
    "import numpy as np\n",
    "import matplotlib.pyplot as plt\n",
    "from sklearn.model_selection import train_test_split\n",
    "import seaborn as sns\n",
    "\n",
    "pd.options"
   ]
  },
  {
   "cell_type": "code",
   "execution_count": 2,
   "metadata": {},
   "outputs": [],
   "source": [
    "num_games = 2"
   ]
  },
  {
   "cell_type": "code",
   "execution_count": 3,
   "metadata": {},
   "outputs": [
    {
     "data": {
      "text/plain": [
       "Text(0.5, 1.0, 'Distribution of Fantasy Points')"
      ]
     },
     "execution_count": 3,
     "metadata": {},
     "output_type": "execute_result"
    },
    {
     "data": {
      "image/png": "[encoded data removed]",
      "text/plain": [
       "<Figure size 432x288 with 1 Axes>"
      ]
     },
     "metadata": {
      "needs_background": "light"
     },
     "output_type": "display_data"
    }
   ],
   "source": [
    "full_df = pd.read_csv(f'../Data/CompleteMerge(2018-2020)[{num_games}].csv').dropna()\n",
    "\n",
    "col = ['MP', 'FG', 'FGA', '3P', '3PA',\n",
    "        'FT', 'FTA', 'TRB', 'AST', 'STL', 'BLK',\n",
    "        'PTS', '+-', 'FDP']\n",
    "full_df = full_df[full_df.FDP != 0]\n",
    "x_col = [f'{num_games}_{i}' for i in col] \n",
    "X = np.array(full_df[[i for i in x_col]])\n",
    "y = np.array(full_df[['FDP']])\n",
    "\n",
    "x_train, x_test, y_train, y_test = train_test_split(X, y, train_size = .8)\n",
    "    \n",
    "sns.distplot(y, bins = 10)\n",
    "plt.xlabel('Fan Duel Points'); plt.title('Distribution of Fantasy Points')"
   ]
  },
  {
   "cell_type": "code",
   "execution_count": 4,
   "metadata": {},
   "outputs": [
    {
     "data": {
      "text/html": [
       "<div>\n",
       "<style scoped>\n",
       "    .dataframe tbody tr th:only-of-type {\n",
       "        vertical-align: middle;\n",
       "    }\n",
       "\n",
       "    .dataframe tbody tr th {\n",
       "        vertical-align: top;\n",
       "    }\n",
       "\n",
       "    .dataframe thead th {\n",
       "        text-align: right;\n",
       "    }\n",
       "</style>\n",
       "<table border=\"1\" class=\"dataframe\">\n",
       "  <thead>\n",
       "    <tr style=\"text-align: right;\">\n",
       "      <th></th>\n",
       "      <th>Unnamed: 0</th>\n",
       "      <th>GameID</th>\n",
       "      <th>Name</th>\n",
       "      <th>Date</th>\n",
       "      <th>Team</th>\n",
       "      <th>FDP</th>\n",
       "      <th>FDS</th>\n",
       "      <th>FD_change</th>\n",
       "      <th>FD_pos</th>\n",
       "      <th>OPP</th>\n",
       "      <th>...</th>\n",
       "      <th>2_AST</th>\n",
       "      <th>2_STL</th>\n",
       "      <th>2_BLK</th>\n",
       "      <th>2_TOV</th>\n",
       "      <th>2_PF</th>\n",
       "      <th>2_PTS</th>\n",
       "      <th>2_+-</th>\n",
       "      <th>2_FDP</th>\n",
       "      <th>2_FDS</th>\n",
       "      <th>NFDP</th>\n",
       "    </tr>\n",
       "  </thead>\n",
       "  <tbody>\n",
       "    <tr>\n",
       "      <th>549</th>\n",
       "      <td>20927</td>\n",
       "      <td>20181020-bkn-ind</td>\n",
       "      <td>Kenneth Faried</td>\n",
       "      <td>20181020.0</td>\n",
       "      <td>bkn</td>\n",
       "      <td>12.4</td>\n",
       "      <td>3500.0</td>\n",
       "      <td>0.0</td>\n",
       "      <td>4.0</td>\n",
       "      <td>ind</td>\n",
       "      <td>...</td>\n",
       "      <td>0.0</td>\n",
       "      <td>0.0</td>\n",
       "      <td>0.0</td>\n",
       "      <td>0.0</td>\n",
       "      <td>0.0</td>\n",
       "      <td>0.0</td>\n",
       "      <td>0.0</td>\n",
       "      <td>0.00</td>\n",
       "      <td>3500.0</td>\n",
       "      <td>0.0</td>\n",
       "    </tr>\n",
       "    <tr>\n",
       "      <th>550</th>\n",
       "      <td>20928</td>\n",
       "      <td>20181020-bkn-ind</td>\n",
       "      <td>D'Angelo Russell</td>\n",
       "      <td>20181020.0</td>\n",
       "      <td>bkn</td>\n",
       "      <td>29.7</td>\n",
       "      <td>6600.0</td>\n",
       "      <td>-200.0</td>\n",
       "      <td>1.0</td>\n",
       "      <td>ind</td>\n",
       "      <td>...</td>\n",
       "      <td>4.0</td>\n",
       "      <td>1.0</td>\n",
       "      <td>0.0</td>\n",
       "      <td>2.0</td>\n",
       "      <td>0.5</td>\n",
       "      <td>4.0</td>\n",
       "      <td>-3.0</td>\n",
       "      <td>25.45</td>\n",
       "      <td>6750.0</td>\n",
       "      <td>30.2</td>\n",
       "    </tr>\n",
       "    <tr>\n",
       "      <th>551</th>\n",
       "      <td>20929</td>\n",
       "      <td>20181020-bkn-ind</td>\n",
       "      <td>Jarrett Allen</td>\n",
       "      <td>20181020.0</td>\n",
       "      <td>bkn</td>\n",
       "      <td>10.6</td>\n",
       "      <td>6800.0</td>\n",
       "      <td>0.0</td>\n",
       "      <td>5.0</td>\n",
       "      <td>ind</td>\n",
       "      <td>...</td>\n",
       "      <td>0.0</td>\n",
       "      <td>0.0</td>\n",
       "      <td>3.0</td>\n",
       "      <td>2.0</td>\n",
       "      <td>2.0</td>\n",
       "      <td>12.5</td>\n",
       "      <td>-2.5</td>\n",
       "      <td>38.60</td>\n",
       "      <td>6200.0</td>\n",
       "      <td>30.1</td>\n",
       "    </tr>\n",
       "    <tr>\n",
       "      <th>552</th>\n",
       "      <td>20930</td>\n",
       "      <td>20181020-bkn-ind</td>\n",
       "      <td>Ed Davis</td>\n",
       "      <td>20181020.0</td>\n",
       "      <td>bkn</td>\n",
       "      <td>23.1</td>\n",
       "      <td>3800.0</td>\n",
       "      <td>100.0</td>\n",
       "      <td>5.0</td>\n",
       "      <td>ind</td>\n",
       "      <td>...</td>\n",
       "      <td>2.0</td>\n",
       "      <td>0.5</td>\n",
       "      <td>0.0</td>\n",
       "      <td>1.0</td>\n",
       "      <td>1.0</td>\n",
       "      <td>5.0</td>\n",
       "      <td>6.5</td>\n",
       "      <td>20.20</td>\n",
       "      <td>3600.0</td>\n",
       "      <td>21.0</td>\n",
       "    </tr>\n",
       "    <tr>\n",
       "      <th>553</th>\n",
       "      <td>20931</td>\n",
       "      <td>20181020-bkn-ind</td>\n",
       "      <td>Joe Harris</td>\n",
       "      <td>20181020.0</td>\n",
       "      <td>bkn</td>\n",
       "      <td>27.9</td>\n",
       "      <td>4500.0</td>\n",
       "      <td>200.0</td>\n",
       "      <td>2.0</td>\n",
       "      <td>ind</td>\n",
       "      <td>...</td>\n",
       "      <td>3.0</td>\n",
       "      <td>0.5</td>\n",
       "      <td>0.0</td>\n",
       "      <td>1.5</td>\n",
       "      <td>1.5</td>\n",
       "      <td>9.5</td>\n",
       "      <td>4.5</td>\n",
       "      <td>21.00</td>\n",
       "      <td>4100.0</td>\n",
       "      <td>27.2</td>\n",
       "    </tr>\n",
       "  </tbody>\n",
       "</table>\n",
       "<p>5 rows × 55 columns</p>\n",
       "</div>"
      ],
      "text/plain": [
       "     Unnamed: 0            GameID              Name        Date Team   FDP  \\\n",
       "549       20927  20181020-bkn-ind    Kenneth Faried  20181020.0  bkn  12.4   \n",
       "550       20928  20181020-bkn-ind  D'Angelo Russell  20181020.0  bkn  29.7   \n",
       "551       20929  20181020-bkn-ind     Jarrett Allen  20181020.0  bkn  10.6   \n",
       "552       20930  20181020-bkn-ind          Ed Davis  20181020.0  bkn  23.1   \n",
       "553       20931  20181020-bkn-ind        Joe Harris  20181020.0  bkn  27.9   \n",
       "\n",
       "        FDS  FD_change  FD_pos  OPP  ...  2_AST  2_STL  2_BLK  2_TOV  2_PF  \\\n",
       "549  3500.0        0.0     4.0  ind  ...    0.0    0.0    0.0    0.0   0.0   \n",
       "550  6600.0     -200.0     1.0  ind  ...    4.0    1.0    0.0    2.0   0.5   \n",
       "551  6800.0        0.0     5.0  ind  ...    0.0    0.0    3.0    2.0   2.0   \n",
       "552  3800.0      100.0     5.0  ind  ...    2.0    0.5    0.0    1.0   1.0   \n",
       "553  4500.0      200.0     2.0  ind  ...    3.0    0.5    0.0    1.5   1.5   \n",
       "\n",
       "     2_PTS  2_+-  2_FDP   2_FDS  NFDP  \n",
       "549    0.0   0.0   0.00  3500.0   0.0  \n",
       "550    4.0  -3.0  25.45  6750.0  30.2  \n",
       "551   12.5  -2.5  38.60  6200.0  30.1  \n",
       "552    5.0   6.5  20.20  3600.0  21.0  \n",
       "553    9.5   4.5  21.00  4100.0  27.2  \n",
       "\n",
       "[5 rows x 55 columns]"
      ]
     },
     "execution_count": 4,
     "metadata": {},
     "output_type": "execute_result"
    }
   ],
   "source": [
    "full_df.head()"
   ]
  },
  {
   "cell_type": "markdown",
   "metadata": {},
   "source": [
    "## Linear Model"
   ]
  },
  {
   "cell_type": "code",
   "execution_count": null,
   "metadata": {},
   "outputs": [],
   "source": [
    "from sklearn.linear_model import LinearRegression \n",
    "\n",
    "#initialize object\n",
    "linear = LinearRegression()\n",
    "\n",
    "#fit x_train and y_train to model\n",
    "linear.fit(x_train, y_train)\n",
    "\n",
    "#make predictions using x_test and y_test\n",
    "linear_predictions = linear.predict(x_test)\n",
    "\n",
    "#plot the actual vs predicted\n",
    "plt.figure(figsize = (14,5))\n",
    "actual_predict = list(zip(linear_predictions, y_test))\n",
    "s_diff = 0\n",
    "for i in actual_predict: \n",
    "    predict = i[0][0]\n",
    "    actual = i[1][0]\n",
    "    diff = predict - actual\n",
    "    if abs(actual - predict) <= 7 and actual - predict > -4: \n",
    "        color = 'green' #good prediction\n",
    "    else: \n",
    "        color = 'red'   #bad prediction\n",
    "    plt.scatter(predict, actual, s=10, c = color)\n",
    "    s_diff += diff**2\n",
    "loss = round(s_diff/len(actual_predict),3)\n",
    "plt.title(f'Linear Model: Predictions vs. Actual | Mean Squared Error: {loss}')\n",
    "plt.xlabel('Predictions'); plt.ylabel('Actual')\n",
    "plt.savefig('LinearScatter.png')"
   ]
  },
  {
   "cell_type": "code",
   "execution_count": null,
   "metadata": {},
   "outputs": [],
   "source": [
    "input_variables = full_df[[i for i in x_col]].columns.to_list()\n",
    "\n",
    "coeff = linear.coef_[0]\n",
    "plt.figure(figsize = (12,5))\n",
    "plt.bar(input_variables, coeff)\n",
    "plt.title('Bar Plot Showing the Coefficients for Each Column')\n",
    "plt.savefig('LinearCoefficients.png')"
   ]
  },
  {
   "cell_type": "markdown",
   "metadata": {},
   "source": [
    "# Neural Networks"
   ]
  },
  {
   "cell_type": "code",
   "execution_count": null,
   "metadata": {},
   "outputs": [],
   "source": [
    "from keras.models import Sequential\n",
    "from keras.layers import Dense, Dropout, LSTM\n",
    "from keras.models import model_from_json\n",
    "from sklearn.model_selection import train_test_split\n",
    "from sklearn.preprocessing import MinMaxScaler, StandardScaler\n",
    "import pandas as pd\n",
    "import numpy as np\n",
    "import matplotlib.pyplot as plt\n",
    "from keras.wrappers.scikit_learn import KerasRegressor\n",
    "\n",
    "\n",
    "num_games = 2\n",
    "epochs = 50 \n",
    "batches = 16\n",
    "\n",
    "full_df = pd.read_csv(f'../Data/CompleteMerge(2018-2020)[{num_games}].csv').dropna()\n",
    "full_df = full_df[full_df.FDP != 0]\n",
    "col = ['MP', 'FG', 'FGA', '3P', '3PA',\n",
    "        'FT', 'FTA', 'TRB', 'AST', 'STL', 'BLK',\n",
    "        'PTS', 'FDP']\n",
    "x_col = [f'{num_games}_{i}' for i in col] \n",
    "X = np.array(full_df[[i for i in x_col]])\n",
    "y = np.array(full_df[['FDP']])\n",
    "\n",
    "x_train, x_test, y_train, y_test = train_test_split(X, y, train_size = .8)\n",
    "\n",
    "min_max = MinMaxScaler()\n",
    "standard= StandardScaler()\n",
    "x_train = min_max.fit_transform(x_train)\n",
    "x_test = min_max.fit_transform(x_test)"
   ]
  },
  {
   "cell_type": "markdown",
   "metadata": {},
   "source": [
    "### Sequential AAN"
   ]
  },
  {
   "cell_type": "code",
   "execution_count": null,
   "metadata": {},
   "outputs": [],
   "source": [
    "def sequential_AAN(x,y, metrics = ['accuracy', 'mae']): \n",
    "    drop = .1\n",
    "\n",
    "    model = Sequential()\n",
    "    \n",
    "    model.add(Dense(x.shape[1],input_dim = x.shape[1], activation = 'relu'))\n",
    "    model.add(Dropout(drop)) #regularization\n",
    "\n",
    "    \n",
    "    model.add(Dense(128 , activation = 'relu'))\n",
    "    model.add(Dropout(drop))\n",
    "\n",
    "    model.add(Dense(128, activation = 'relu'))\n",
    "    model.add(Dropout(drop)) \n",
    "    \n",
    "    model.add(Dense(128, activation = 'relu'))\n",
    "    model.add(Dropout(drop)) \n",
    "\n",
    "    \n",
    "    model.add(Dense(1))#, activation = 'linear'))\n",
    "    model.compile(loss = 'mse', optimizer = 'adam', metrics = metrics)\n",
    "    return model"
   ]
  },
  {
   "cell_type": "code",
   "execution_count": null,
   "metadata": {
    "scrolled": false
   },
   "outputs": [],
   "source": [
    "seq_ann = sequential_AAN(x_train, y_train)\n",
    "ann_history = seq_ann.fit(x_train, y_train, epochs = epochs, batch_size = batches, validation_data= (x_test,y_test))\n",
    "# json = open('models/ANN_Model.json', 'r')\n",
    "# ann_json = json.read()\n",
    "# json.close()\n",
    "# seq_ann = model_from_json(ann_json)\n",
    "# seq_ann.load_weights('models/ANN_Model_Weights.h5')"
   ]
  },
  {
   "cell_type": "code",
   "execution_count": null,
   "metadata": {},
   "outputs": [],
   "source": [
    "ann_json = seq_ann.to_json()\n",
    "with open('models/ANN_Model.json', 'w') as file:\n",
    "    file.write(ann_json)\n",
    "    \n",
    "seq_ann.save('models/ANN_Model_Weights.h5')"
   ]
  },
  {
   "cell_type": "code",
   "execution_count": null,
   "metadata": {},
   "outputs": [],
   "source": [
    "#Plotting the losses for ANN\n",
    "print(ann_history.history.keys())\n",
    "ann_df = pd.DataFrame(ann_history.history)\n",
    "ann_df.tail(5)\n",
    "fig, ax = plt.subplots(2, figsize = (10,5))\n",
    "ax[0].plot(ann_df.index, ann_df.loss, label = 'Train')\n",
    "ax[0].plot(ann_df.index, ann_df.val_loss, label = 'Test')\n",
    "ax[0].legend()\n",
    "ax[0].set_ylabel('Mean Squared Error')\n",
    "\n",
    "ax[1].plot(ann_df.index, ann_df.mae, label = 'Train')\n",
    "ax[1].plot(ann_df.index, ann_df.val_mae, label = 'Test')\n",
    "ax[1].legend()\n",
    "ax[1].set_ylabel('Mean Absolute Error')\n",
    "plt.xlabel('Epochs')\n",
    "plt.suptitle('Sequential ANN Accuracy')\n",
    "plt.savefig('ANNLoss.png')"
   ]
  },
  {
   "cell_type": "code",
   "execution_count": null,
   "metadata": {},
   "outputs": [],
   "source": [
    "#make predictions using x_test and y_test for ANN\n",
    "ann_predictions = seq_ann.predict(x_test)\n",
    "\n",
    "#plot the actual vs predicted\n",
    "plt.figure(figsize = (14,5))\n",
    "actual_predict = list(zip(ann_predictions, y_test))\n",
    "s_diff = 0\n",
    "for i in actual_predict: \n",
    "    predict = i[0][0]\n",
    "    actual = i[1][0]\n",
    "    diff = predict - actual\n",
    "    if abs(actual - predict) <= 7 and actual - predict > -4:  \n",
    "        color = 'green' #good prediction\n",
    "    else: \n",
    "        color = 'red'   #bad prediction\n",
    "    plt.scatter(predict, actual, s=10, c = color)\n",
    "    s_diff += diff**2\n",
    "loss = round(s_diff/len(actual_predict),3)\n",
    "plt.title(f'Sequential ANN Model: Predictions vs. Actual | Mean Squared Error: {loss}')\n",
    "plt.xlabel('Predictions'); plt.ylabel('Actual')\n",
    "plt.savefig('ANNScatter.png')"
   ]
  },
  {
   "cell_type": "code",
   "execution_count": null,
   "metadata": {},
   "outputs": [],
   "source": []
  },
  {
   "cell_type": "markdown",
   "metadata": {},
   "source": [
    "### Multvariate RNN (LSTM)"
   ]
  },
  {
   "cell_type": "code",
   "execution_count": null,
   "metadata": {},
   "outputs": [],
   "source": [
    "from keras.models import Sequential\n",
    "from keras.layers import Dense, Dropout, LSTM\n",
    "from keras.models import model_from_json\n",
    "from sklearn.model_selection import train_test_split\n",
    "from sklearn.preprocessing import MinMaxScaler, StandardScaler\n",
    "import pandas as pd\n",
    "import numpy as np\n",
    "import matplotlib.pyplot as plt\n",
    "\n",
    "\n",
    "num_games = 2\n",
    "epochs = 50 \n",
    "batches = 32\n",
    "\n",
    "full_df = pd.read_csv(f'../Data/CompleteMerge(2018-2020)[{num_games}].csv').dropna()\n",
    "full_df = full_df[full_df.FDP != 0]\n",
    "col = ['MP', 'FG', 'FGA', '3P', '3PA',\n",
    "        'FT', 'FTA', 'TRB', 'AST', 'STL', 'BLK',\n",
    "        'PTS', 'FDP']\n",
    "x_col = [f'{num_games}_{i}' for i in col] + ['FDS','FD_change']\n",
    "min_max= MinMaxScaler()\n",
    "standard = StandardScaler()\n",
    "\n",
    "X = np.array(full_df[[i for i in x_col]])\n",
    "y = np.array(full_df[['FDP']])\n",
    "\n",
    "\n",
    "x_train, x_test, y_train, y_test = train_test_split(X, y, train_size = .8)\n",
    "\n",
    "x_train = min_max.fit_transform(x_train)\n",
    "x_test = min_max.fit_transform(x_test)\n",
    "x_test = x_test.reshape((x_test.shape[0],1 , x_test.shape[1]))\n",
    "x_train = x_train.reshape((x_train.shape[0], 1, x_train.shape[1]))\n"
   ]
  },
  {
   "cell_type": "code",
   "execution_count": 1,
   "metadata": {},
   "outputs": [
    {
     "ename": "NameError",
     "evalue": "name 'x_test' is not defined",
     "output_type": "error",
     "traceback": [
      "\u001b[0;31m---------------------------------------------------------------------------\u001b[0m",
      "\u001b[0;31mNameError\u001b[0m                                 Traceback (most recent call last)",
      "\u001b[0;32m<ipython-input-1-ca585f49180f>\u001b[0m in \u001b[0;36m<module>\u001b[0;34m\u001b[0m\n\u001b[0;32m----> 1\u001b[0;31m \u001b[0mprint\u001b[0m\u001b[0;34m(\u001b[0m\u001b[0mx_test\u001b[0m\u001b[0;34m.\u001b[0m\u001b[0mshape\u001b[0m\u001b[0;34m)\u001b[0m\u001b[0;34m\u001b[0m\u001b[0;34m\u001b[0m\u001b[0m\n\u001b[0m",
      "\u001b[0;31mNameError\u001b[0m: name 'x_test' is not defined"
     ]
    }
   ],
   "source": [
    "print(x_test.shape)"
   ]
  },
  {
   "cell_type": "code",
   "execution_count": null,
   "metadata": {},
   "outputs": [],
   "source": [
    "def multivar_RNN(x,y, metrics = ['accuracy', 'mae']): \n",
    "    model = Sequential()\n",
    "    units = 32\n",
    "    drop = .1\n",
    "\n",
    "    #2nd type\n",
    "    model.add(LSTM(units, return_sequences = True, input_dim = x.shape[2], activation = 'relu'))\n",
    "    model.add(Dropout(drop))\n",
    "    model.add(LSTM(units = units, return_sequences = True, input_dim = x.shape[2], activation = 'relu'))\n",
    "    model.add(Dropout(drop))\n",
    "    model.add(LSTM(units = units, return_sequences = False, input_dim = x.shape[2], activation = 'relu'))\n",
    "    model.add(Dropout(drop))\n",
    "    model.add(Dense(1))#, activation = 'linear'))\n",
    "    \n",
    "    model.compile(optimizer = 'adam', loss = 'mse', metrics = metrics)\n",
    "    \n",
    "    return model\n",
    "        "
   ]
  },
  {
   "cell_type": "code",
   "execution_count": null,
   "metadata": {},
   "outputs": [],
   "source": [
    "mult_rnn = multivar_RNN(x_train, y_train)\n",
    "rnn_history = mult_rnn.fit(x_train, y_train, epochs = epochs, batch_size = batches, verbose = 1, validation_data= (x_test,y_test))"
   ]
  },
  {
   "cell_type": "code",
   "execution_count": null,
   "metadata": {},
   "outputs": [],
   "source": [
    "rnn_json = mult_rnn.to_json()\n",
    "with open('models/RNN_Model.json', 'w') as file:\n",
    "    file.write(rnn_json)\n",
    "mult_rnn.save('models/RNN_Model_weights.h5')\n",
    "\n",
    "# json = open('models/RNN_Model.json', 'r')\n",
    "# rnn_json = json.read()\n",
    "# json.close()\n",
    "# mult_rnn = model_from_json(rnn_json)\n",
    "# mult_rnn.load_weights('models/RNN_Model_Weights.h5')"
   ]
  },
  {
   "cell_type": "code",
   "execution_count": null,
   "metadata": {},
   "outputs": [],
   "source": [
    "print(rnn_history.history.keys())\n",
    "rnn_df = pd.DataFrame(rnn_history.history)\n",
    "rnn_df.tail(5)\n",
    "fig, ax = plt.subplots(2, figsize = (10,5))\n",
    "ax[0].plot(rnn_df.index, rnn_df.loss, label = 'Train')\n",
    "ax[0].plot(rnn_df.index, rnn_df.val_loss, label = 'Test')\n",
    "ax[0].legend()\n",
    "ax[0].set_ylabel('Mean Squared Error')\n",
    "\n",
    "ax[1].plot(rnn_df.index, rnn_df.mae, label = 'Train')\n",
    "ax[1].plot(rnn_df.index, rnn_df.val_mae, label = 'Test')\n",
    "ax[1].legend()\n",
    "ax[1].set_ylabel('Mean Absolute Error')\n",
    "plt.xlabel('Epochs')\n",
    "plt.suptitle('LSTM RNN Accuracy')\n",
    "plt.savefig('RNNLoss.png')"
   ]
  },
  {
   "cell_type": "code",
   "execution_count": null,
   "metadata": {},
   "outputs": [],
   "source": [
    "#make predictions using x_test and y_test for ANN\n",
    "rnn_predictions = mult_rnn.predict(x_test)\n",
    "\n",
    "#plot the actual vs predicted\n",
    "plt.figure(figsize = (14,5))\n",
    "actual_predict = list(zip(rnn_predictions, y_test))\n",
    "s_diff = 0\n",
    "for i in actual_predict: \n",
    "    predict = i[0][0]\n",
    "    actual = i[1][0]\n",
    "    diff = predict - actual\n",
    "    if abs(diff) <= 7: \n",
    "        color = 'green' #good prediction\n",
    "    else: \n",
    "        color = 'red'   #bad prediction\n",
    "    plt.scatter(predict, actual, s=10, c = color)\n",
    "    s_diff += diff**2\n",
    "loss = round(s_diff/len(actual_predict),3)\n",
    "plt.title(f'LSTM RNN Model: Predictions vs. Actual | Mean Squared Error: {loss}')\n",
    "plt.xlabel('Predictions'); plt.ylabel('Actual')\n",
    "plt.savefig('RNNScatter.png')"
   ]
  },
  {
   "cell_type": "code",
   "execution_count": null,
   "metadata": {},
   "outputs": [],
   "source": []
  }
 ],
 "metadata": {
  "kernelspec": {
   "display_name": "Python 3",
   "language": "python",
   "name": "python3"
  },
  "language_info": {
   "codemirror_mode": {
    "name": "ipython",
    "version": 3
   },
   "file_extension": ".py",
   "mimetype": "text/x-python",
   "name": "python",
   "nbconvert_exporter": "python",
   "pygments_lexer": "ipython3",
   "version": "3.7.6"
  }
 },
 "nbformat": 4,
 "nbformat_minor": 4
}
