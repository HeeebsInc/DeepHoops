{
 "cells": [
  {
   "cell_type": "code",
   "execution_count": 1,
   "metadata": {},
   "outputs": [],
   "source": [
    "from sklearn.linear_model import LinearRegression, LogisticRegression\n",
    "from sklearn.model_selection import train_test_split\n",
    "from sklearn.preprocessing import StandardScaler\n",
    "from sklearn.neighbors import KNeighborsRegressor\n",
    "import pandas as pd\n",
    "import numpy as np\n",
    "import matplotlib.pyplot as plt\n",
    "pd.options.display.max_columns = None\n",
    "pd.options.display.max_rows = 100"
   ]
  },
  {
   "cell_type": "code",
   "execution_count": 2,
   "metadata": {},
   "outputs": [],
   "source": [
    "num_games =4\n",
    "\n",
    "season18_19 = pd.read_csv(f'../NewData/Avg(18-19)[{num_games}].csv').drop('Unnamed: 0', axis = 1).dropna()\n",
    "season19_20 = pd.read_csv(f'../NewData/Avg(19-20)[{num_games}].csv').drop('Unnamed: 0', axis = 1).dropna()"
   ]
  },
  {
   "cell_type": "code",
   "execution_count": 3,
   "metadata": {},
   "outputs": [],
   "source": [
    "merged = season18_19.append(season19_20, ignore_index = False)"
   ]
  },
  {
   "cell_type": "code",
   "execution_count": 4,
   "metadata": {},
   "outputs": [
    {
     "data": {
      "text/html": [
       "<div>\n",
       "<style scoped>\n",
       "    .dataframe tbody tr th:only-of-type {\n",
       "        vertical-align: middle;\n",
       "    }\n",
       "\n",
       "    .dataframe tbody tr th {\n",
       "        vertical-align: top;\n",
       "    }\n",
       "\n",
       "    .dataframe thead th {\n",
       "        text-align: right;\n",
       "    }\n",
       "</style>\n",
       "<table border=\"1\" class=\"dataframe\">\n",
       "  <thead>\n",
       "    <tr style=\"text-align: right;\">\n",
       "      <th></th>\n",
       "      <th>GameID</th>\n",
       "      <th>Name</th>\n",
       "      <th>Date</th>\n",
       "      <th>Team</th>\n",
       "      <th>FDP</th>\n",
       "      <th>FDS</th>\n",
       "      <th>FD_change</th>\n",
       "      <th>FD_pos</th>\n",
       "      <th>OPP</th>\n",
       "      <th>Home</th>\n",
       "      <th>Away</th>\n",
       "      <th>MP</th>\n",
       "      <th>FG</th>\n",
       "      <th>FGA</th>\n",
       "      <th>FG%</th>\n",
       "      <th>3P</th>\n",
       "      <th>3PA</th>\n",
       "      <th>3P%</th>\n",
       "      <th>FT</th>\n",
       "      <th>FTA</th>\n",
       "      <th>FT%</th>\n",
       "      <th>ORB</th>\n",
       "      <th>DRB</th>\n",
       "      <th>TRB</th>\n",
       "      <th>AST</th>\n",
       "      <th>STL</th>\n",
       "      <th>BLK</th>\n",
       "      <th>TOV</th>\n",
       "      <th>PF</th>\n",
       "      <th>PTS</th>\n",
       "      <th>+-</th>\n",
       "      <th>4_MP</th>\n",
       "      <th>4_FG</th>\n",
       "      <th>4_FGA</th>\n",
       "      <th>4_FG%</th>\n",
       "      <th>4_3P</th>\n",
       "      <th>4_3PA</th>\n",
       "      <th>4_3P%</th>\n",
       "      <th>4_FT</th>\n",
       "      <th>4_FTA</th>\n",
       "      <th>4_FT%</th>\n",
       "      <th>4_ORB</th>\n",
       "      <th>4_DRB</th>\n",
       "      <th>4_TRB</th>\n",
       "      <th>4_AST</th>\n",
       "      <th>4_STL</th>\n",
       "      <th>4_BLK</th>\n",
       "      <th>4_TOV</th>\n",
       "      <th>4_PF</th>\n",
       "      <th>4_PTS</th>\n",
       "      <th>4_+-</th>\n",
       "      <th>4_FDP</th>\n",
       "      <th>4_FDS</th>\n",
       "      <th>NFDP</th>\n",
       "    </tr>\n",
       "  </thead>\n",
       "  <tbody>\n",
       "    <tr>\n",
       "      <th>1138</th>\n",
       "      <td>20181024-cha-chi</td>\n",
       "      <td>Nicolas Batum</td>\n",
       "      <td>20181024.0</td>\n",
       "      <td>cha</td>\n",
       "      <td>25.6</td>\n",
       "      <td>6500.0</td>\n",
       "      <td>-400.0</td>\n",
       "      <td>3.0</td>\n",
       "      <td>chi</td>\n",
       "      <td>1.0</td>\n",
       "      <td>0.0</td>\n",
       "      <td>37.36</td>\n",
       "      <td>6.0</td>\n",
       "      <td>15.0</td>\n",
       "      <td>0.400</td>\n",
       "      <td>1.0</td>\n",
       "      <td>6.0</td>\n",
       "      <td>0.167</td>\n",
       "      <td>0.0</td>\n",
       "      <td>1.0</td>\n",
       "      <td>0.0</td>\n",
       "      <td>0.0</td>\n",
       "      <td>3.0</td>\n",
       "      <td>3.0</td>\n",
       "      <td>4.0</td>\n",
       "      <td>1.0</td>\n",
       "      <td>1.0</td>\n",
       "      <td>3.0</td>\n",
       "      <td>0.0</td>\n",
       "      <td>13.0</td>\n",
       "      <td>14.0</td>\n",
       "      <td>28.6800</td>\n",
       "      <td>3.0</td>\n",
       "      <td>7.75</td>\n",
       "      <td>0.3375</td>\n",
       "      <td>2.0</td>\n",
       "      <td>4.75</td>\n",
       "      <td>0.36625</td>\n",
       "      <td>1.00</td>\n",
       "      <td>1.0</td>\n",
       "      <td>0.50000</td>\n",
       "      <td>0.75</td>\n",
       "      <td>3.25</td>\n",
       "      <td>4.0</td>\n",
       "      <td>2.75</td>\n",
       "      <td>1.00</td>\n",
       "      <td>0.0</td>\n",
       "      <td>1.5</td>\n",
       "      <td>1.5</td>\n",
       "      <td>9.00</td>\n",
       "      <td>-1.25</td>\n",
       "      <td>25.225</td>\n",
       "      <td>7100.0</td>\n",
       "      <td>35.1</td>\n",
       "    </tr>\n",
       "    <tr>\n",
       "      <th>1139</th>\n",
       "      <td>20181024-cha-chi</td>\n",
       "      <td>Jeremy Lamb</td>\n",
       "      <td>20181024.0</td>\n",
       "      <td>cha</td>\n",
       "      <td>26.1</td>\n",
       "      <td>5200.0</td>\n",
       "      <td>-300.0</td>\n",
       "      <td>2.0</td>\n",
       "      <td>chi</td>\n",
       "      <td>1.0</td>\n",
       "      <td>0.0</td>\n",
       "      <td>28.08</td>\n",
       "      <td>5.0</td>\n",
       "      <td>9.0</td>\n",
       "      <td>0.556</td>\n",
       "      <td>2.0</td>\n",
       "      <td>3.0</td>\n",
       "      <td>0.667</td>\n",
       "      <td>0.0</td>\n",
       "      <td>0.0</td>\n",
       "      <td>0.0</td>\n",
       "      <td>0.0</td>\n",
       "      <td>3.0</td>\n",
       "      <td>3.0</td>\n",
       "      <td>3.0</td>\n",
       "      <td>1.0</td>\n",
       "      <td>1.0</td>\n",
       "      <td>0.0</td>\n",
       "      <td>2.0</td>\n",
       "      <td>12.0</td>\n",
       "      <td>-7.0</td>\n",
       "      <td>20.6575</td>\n",
       "      <td>3.0</td>\n",
       "      <td>9.25</td>\n",
       "      <td>0.3065</td>\n",
       "      <td>1.0</td>\n",
       "      <td>3.50</td>\n",
       "      <td>0.27075</td>\n",
       "      <td>2.75</td>\n",
       "      <td>3.0</td>\n",
       "      <td>0.70825</td>\n",
       "      <td>0.75</td>\n",
       "      <td>3.25</td>\n",
       "      <td>4.0</td>\n",
       "      <td>1.25</td>\n",
       "      <td>1.25</td>\n",
       "      <td>1.0</td>\n",
       "      <td>0.5</td>\n",
       "      <td>2.0</td>\n",
       "      <td>9.75</td>\n",
       "      <td>2.75</td>\n",
       "      <td>25.400</td>\n",
       "      <td>5325.0</td>\n",
       "      <td>19.8</td>\n",
       "    </tr>\n",
       "  </tbody>\n",
       "</table>\n",
       "</div>"
      ],
      "text/plain": [
       "                GameID           Name        Date Team   FDP     FDS  \\\n",
       "1138  20181024-cha-chi  Nicolas Batum  20181024.0  cha  25.6  6500.0   \n",
       "1139  20181024-cha-chi    Jeremy Lamb  20181024.0  cha  26.1  5200.0   \n",
       "\n",
       "      FD_change  FD_pos  OPP  Home  Away     MP   FG   FGA    FG%   3P  3PA  \\\n",
       "1138     -400.0     3.0  chi   1.0   0.0  37.36  6.0  15.0  0.400  1.0  6.0   \n",
       "1139     -300.0     2.0  chi   1.0   0.0  28.08  5.0   9.0  0.556  2.0  3.0   \n",
       "\n",
       "        3P%   FT  FTA  FT%  ORB  DRB  TRB  AST  STL  BLK  TOV   PF   PTS  \\\n",
       "1138  0.167  0.0  1.0  0.0  0.0  3.0  3.0  4.0  1.0  1.0  3.0  0.0  13.0   \n",
       "1139  0.667  0.0  0.0  0.0  0.0  3.0  3.0  3.0  1.0  1.0  0.0  2.0  12.0   \n",
       "\n",
       "        +-     4_MP  4_FG  4_FGA   4_FG%  4_3P  4_3PA    4_3P%  4_FT  4_FTA  \\\n",
       "1138  14.0  28.6800   3.0   7.75  0.3375   2.0   4.75  0.36625  1.00    1.0   \n",
       "1139  -7.0  20.6575   3.0   9.25  0.3065   1.0   3.50  0.27075  2.75    3.0   \n",
       "\n",
       "        4_FT%  4_ORB  4_DRB  4_TRB  4_AST  4_STL  4_BLK  4_TOV  4_PF  4_PTS  \\\n",
       "1138  0.50000   0.75   3.25    4.0   2.75   1.00    0.0    1.5   1.5   9.00   \n",
       "1139  0.70825   0.75   3.25    4.0   1.25   1.25    1.0    0.5   2.0   9.75   \n",
       "\n",
       "      4_+-   4_FDP   4_FDS  NFDP  \n",
       "1138 -1.25  25.225  7100.0  35.1  \n",
       "1139  2.75  25.400  5325.0  19.8  "
      ]
     },
     "execution_count": 4,
     "metadata": {},
     "output_type": "execute_result"
    }
   ],
   "source": [
    "merged= merged[(merged['+-'] != 0) & (merged.FDP !=0)]\n",
    "merged.head(2)"
   ]
  },
  {
   "cell_type": "code",
   "execution_count": 5,
   "metadata": {},
   "outputs": [],
   "source": [
    "col = ['MP', 'FG', 'FGA', '3P', '3PA',\n",
    "        'FT', 'FTA', 'TRB', 'AST', 'STL', 'BLK',\n",
    "        'PTS', '+-', 'FDP']#, 'FDS']\n",
    "x_col = [f'{num_games}_{i}' for i in col] + ['FDS', 'FD_change']\n",
    "x_df = merged[[i for i in x_col]]\n",
    "y_df = merged[['FDP']]"
   ]
  },
  {
   "cell_type": "code",
   "execution_count": 6,
   "metadata": {},
   "outputs": [],
   "source": [
    "standard = StandardScaler()\n",
    "x = standard.fit_transform(np.array(x_df))\n",
    "y = np.array(y_df)\n",
    "x_train, x_test, y_train, y_test = train_test_split(x, y, train_size = .8)\n"
   ]
  },
  {
   "cell_type": "markdown",
   "metadata": {},
   "source": [
    "### Linear Model"
   ]
  },
  {
   "cell_type": "code",
   "execution_count": 7,
   "metadata": {},
   "outputs": [
    {
     "data": {
      "text/plain": [
       "Text(0.5, 0, 'Predictions')"
      ]
     },
     "execution_count": 7,
     "metadata": {},
     "output_type": "execute_result"
    },
    {
     "data": {
      "image/png": "[encoded data removed]",
      "text/plain": [
       "<Figure size 1080x360 with 1 Axes>"
      ]
     },
     "metadata": {
      "needs_background": "light"
     },
     "output_type": "display_data"
    }
   ],
   "source": [
    "linear = LinearRegression()\n",
    "linear.fit(x_train, y_train)\n",
    "predictions = linear.predict(x_test)\n",
    "plt.figure(figsize = (15,5))\n",
    "plt.scatter(predictions, y_test, s = 10)\n",
    "plt.title('Linear Model'); plt.ylabel('Actual'); plt.xlabel('Predictions')"
   ]
  },
  {
   "cell_type": "code",
   "execution_count": 8,
   "metadata": {},
   "outputs": [
    {
     "ename": "AssertionError",
     "evalue": "",
     "output_type": "error",
     "traceback": [
      "\u001b[0;31m---------------------------------------------------------------------------\u001b[0m",
      "\u001b[0;31mAssertionError\u001b[0m                            Traceback (most recent call last)",
      "\u001b[0;32m<ipython-input-8-a871fdc9ebee>\u001b[0m in \u001b[0;36m<module>\u001b[0;34m\u001b[0m\n\u001b[0;32m----> 1\u001b[0;31m \u001b[0;32massert\u001b[0m \u001b[0;32mFalse\u001b[0m\u001b[0;34m\u001b[0m\u001b[0;34m\u001b[0m\u001b[0m\n\u001b[0m",
      "\u001b[0;31mAssertionError\u001b[0m: "
     ]
    }
   ],
   "source": [
    "assert False"
   ]
  },
  {
   "cell_type": "markdown",
   "metadata": {},
   "source": [
    "### KNeighbors"
   ]
  },
  {
   "cell_type": "code",
   "execution_count": null,
   "metadata": {},
   "outputs": [],
   "source": [
    "clf = KNeighborsRegressor(n_neigh, weights = 'uniform')\n",
    "clf.fit(x_train, y_train)"
   ]
  },
  {
   "cell_type": "code",
   "execution_count": null,
   "metadata": {},
   "outputs": [],
   "source": [
    "predictions = clf.predict(x_test)"
   ]
  },
  {
   "cell_type": "code",
   "execution_count": null,
   "metadata": {},
   "outputs": [],
   "source": [
    "plt.figure(figsize=(15,5))\n",
    "plt.scatter(predictions, y_test, s = 10)"
   ]
  },
  {
   "cell_type": "code",
   "execution_count": null,
   "metadata": {},
   "outputs": [],
   "source": [
    "assert False"
   ]
  },
  {
   "cell_type": "markdown",
   "metadata": {},
   "source": [
    "### Logistic Model "
   ]
  },
  {
   "cell_type": "code",
   "execution_count": null,
   "metadata": {},
   "outputs": [],
   "source": [
    "logistic_model = LogisticRegression()\n",
    "\n",
    "\n",
    "x_train, x_test, y_train, y_test = train_test_split()"
   ]
  },
  {
   "cell_type": "code",
   "execution_count": null,
   "metadata": {},
   "outputs": [],
   "source": []
  },
  {
   "cell_type": "code",
   "execution_count": null,
   "metadata": {},
   "outputs": [],
   "source": []
  },
  {
   "cell_type": "code",
   "execution_count": null,
   "metadata": {},
   "outputs": [],
   "source": []
  },
  {
   "cell_type": "code",
   "execution_count": null,
   "metadata": {},
   "outputs": [],
   "source": []
  },
  {
   "cell_type": "code",
   "execution_count": null,
   "metadata": {},
   "outputs": [],
   "source": []
  },
  {
   "cell_type": "code",
   "execution_count": null,
   "metadata": {},
   "outputs": [],
   "source": []
  },
  {
   "cell_type": "code",
   "execution_count": null,
   "metadata": {},
   "outputs": [],
   "source": [
    "linear_model = LinearRegression()"
   ]
  }
 ],
 "metadata": {
  "kernelspec": {
   "display_name": "Python 3",
   "language": "python",
   "name": "python3"
  },
  "language_info": {
   "codemirror_mode": {
    "name": "ipython",
    "version": 3
   },
   "file_extension": ".py",
   "mimetype": "text/x-python",
   "name": "python",
   "nbconvert_exporter": "python",
   "pygments_lexer": "ipython3",
   "version": "3.7.6"
  }
 },
 "nbformat": 4,
 "nbformat_minor": 4
}
