{
 "cells": [
  {
   "cell_type": "code",
   "execution_count": 12,
   "id": "postal-carnival",
   "metadata": {},
   "outputs": [],
   "source": [
    "from sklearn.linear_model import LinearRegression\n",
    "from sklearn.tree import DecisionTreeRegressor\n",
    "from sklearn.neighbors import KNeighborsRegressor\n",
    "import pickle\n",
    "import os\n",
    "import shutil\n",
    "import matplotlib.pyplot as plt"
   ]
  },
  {
   "cell_type": "code",
   "execution_count": 17,
   "id": "dirty-history",
   "metadata": {},
   "outputs": [],
   "source": [
    "def get_train_split(timestep):\n",
    "\n",
    "    pickle_dir = '/home/samuel-linux/PycharmProjects/Personal/FantasyBasketball/Data/pickles/roto/shifted'\n",
    "    split_dict = pickle.load(open(f'{pickle_dir}/{timestep}-TrainTestSplit.p', 'rb'))\n",
    "        \n",
    "    x_train, y_train = split_dict['x_train'], split_dict['y_train'] \n",
    "    x_test, y_test = split_dict['x_test'], split_dict['y_test']\n",
    "    x_val, y_val  = split_dict['x_val'], split_dict['y_val']\n",
    "    \n",
    "    columns = [i for i in x_train.columns if i != 'Player']\n",
    "    x_train = x_train[columns]\n",
    "    x_test = x_test[columns]\n",
    "    x_val = x_val[columns]\n",
    "    return x_train, y_train, x_test, y_test, x_val, y_val\n",
    "\n",
    "x_train, y_train, x_test, y_test, x_val, y_val = get_train_split(3)  "
   ]
  },
  {
   "cell_type": "code",
   "execution_count": 18,
   "id": "framed-function",
   "metadata": {},
   "outputs": [
    {
     "data": {
      "text/html": [
       "<div>\n",
       "<style scoped>\n",
       "    .dataframe tbody tr th:only-of-type {\n",
       "        vertical-align: middle;\n",
       "    }\n",
       "\n",
       "    .dataframe tbody tr th {\n",
       "        vertical-align: top;\n",
       "    }\n",
       "\n",
       "    .dataframe thead th {\n",
       "        text-align: right;\n",
       "    }\n",
       "</style>\n",
       "<table border=\"1\" class=\"dataframe\">\n",
       "  <thead>\n",
       "    <tr style=\"text-align: right;\">\n",
       "      <th></th>\n",
       "      <th>Team</th>\n",
       "      <th>Against</th>\n",
       "      <th>Home</th>\n",
       "      <th>GameID</th>\n",
       "      <th>GameTime</th>\n",
       "      <th>TeamPoints</th>\n",
       "      <th>OppPoints</th>\n",
       "      <th>Starting</th>\n",
       "      <th>Minutes</th>\n",
       "      <th>Appeared</th>\n",
       "      <th>...</th>\n",
       "      <th>TripleD</th>\n",
       "      <th>FDSal</th>\n",
       "      <th>FDChange</th>\n",
       "      <th>DKSal</th>\n",
       "      <th>DKChange</th>\n",
       "      <th>DDSal</th>\n",
       "      <th>DDChange</th>\n",
       "      <th>FDP_1</th>\n",
       "      <th>FDP_2</th>\n",
       "      <th>FDP_3</th>\n",
       "    </tr>\n",
       "  </thead>\n",
       "  <tbody>\n",
       "    <tr>\n",
       "      <th>566</th>\n",
       "      <td>lal</td>\n",
       "      <td>det</td>\n",
       "      <td>A</td>\n",
       "      <td>20170208-lal-det</td>\n",
       "      <td>19.5</td>\n",
       "      <td>102.0</td>\n",
       "      <td>121.0</td>\n",
       "      <td>0.0</td>\n",
       "      <td>20.650000</td>\n",
       "      <td>1.0</td>\n",
       "      <td>...</td>\n",
       "      <td>0.0</td>\n",
       "      <td>6300.0</td>\n",
       "      <td>0.0</td>\n",
       "      <td>5500.0</td>\n",
       "      <td>-400.0</td>\n",
       "      <td>11850.0</td>\n",
       "      <td>-650.0</td>\n",
       "      <td>28.4</td>\n",
       "      <td>30.8</td>\n",
       "      <td>22.4</td>\n",
       "    </tr>\n",
       "    <tr>\n",
       "      <th>501</th>\n",
       "      <td>cle</td>\n",
       "      <td>okc</td>\n",
       "      <td>A</td>\n",
       "      <td>20170209-cle-okc</td>\n",
       "      <td>20.0</td>\n",
       "      <td>109.0</td>\n",
       "      <td>118.0</td>\n",
       "      <td>1.0</td>\n",
       "      <td>34.400000</td>\n",
       "      <td>1.0</td>\n",
       "      <td>...</td>\n",
       "      <td>0.0</td>\n",
       "      <td>8400.0</td>\n",
       "      <td>0.0</td>\n",
       "      <td>8300.0</td>\n",
       "      <td>600.0</td>\n",
       "      <td>17050.0</td>\n",
       "      <td>-50.0</td>\n",
       "      <td>40.5</td>\n",
       "      <td>30.7</td>\n",
       "      <td>0.0</td>\n",
       "    </tr>\n",
       "    <tr>\n",
       "      <th>508</th>\n",
       "      <td>cle</td>\n",
       "      <td>bkn</td>\n",
       "      <td>H</td>\n",
       "      <td>20161223-bkn-cle</td>\n",
       "      <td>19.5</td>\n",
       "      <td>119.0</td>\n",
       "      <td>99.0</td>\n",
       "      <td>1.0</td>\n",
       "      <td>26.450000</td>\n",
       "      <td>1.0</td>\n",
       "      <td>...</td>\n",
       "      <td>0.0</td>\n",
       "      <td>7500.0</td>\n",
       "      <td>200.0</td>\n",
       "      <td>7800.0</td>\n",
       "      <td>300.0</td>\n",
       "      <td>16450.0</td>\n",
       "      <td>1450.0</td>\n",
       "      <td>55.7</td>\n",
       "      <td>39.5</td>\n",
       "      <td>50.2</td>\n",
       "    </tr>\n",
       "    <tr>\n",
       "      <th>674</th>\n",
       "      <td>cle</td>\n",
       "      <td>gsw</td>\n",
       "      <td>H</td>\n",
       "      <td>20161225-gsw-cle</td>\n",
       "      <td>14.5</td>\n",
       "      <td>109.0</td>\n",
       "      <td>108.0</td>\n",
       "      <td>1.0</td>\n",
       "      <td>43.883333</td>\n",
       "      <td>1.0</td>\n",
       "      <td>...</td>\n",
       "      <td>0.0</td>\n",
       "      <td>8000.0</td>\n",
       "      <td>500.0</td>\n",
       "      <td>7700.0</td>\n",
       "      <td>-100.0</td>\n",
       "      <td>15950.0</td>\n",
       "      <td>-500.0</td>\n",
       "      <td>45.0</td>\n",
       "      <td>55.7</td>\n",
       "      <td>39.5</td>\n",
       "    </tr>\n",
       "    <tr>\n",
       "      <th>669</th>\n",
       "      <td>dal</td>\n",
       "      <td>uta</td>\n",
       "      <td>A</td>\n",
       "      <td>20161102-dal-uta</td>\n",
       "      <td>21.0</td>\n",
       "      <td>81.0</td>\n",
       "      <td>97.0</td>\n",
       "      <td>0.0</td>\n",
       "      <td>14.783333</td>\n",
       "      <td>1.0</td>\n",
       "      <td>...</td>\n",
       "      <td>0.0</td>\n",
       "      <td>3800.0</td>\n",
       "      <td>0.0</td>\n",
       "      <td>3400.0</td>\n",
       "      <td>-500.0</td>\n",
       "      <td>6100.0</td>\n",
       "      <td>-450.0</td>\n",
       "      <td>4.6</td>\n",
       "      <td>9.5</td>\n",
       "      <td>20.1</td>\n",
       "    </tr>\n",
       "    <tr>\n",
       "      <th>...</th>\n",
       "      <td>...</td>\n",
       "      <td>...</td>\n",
       "      <td>...</td>\n",
       "      <td>...</td>\n",
       "      <td>...</td>\n",
       "      <td>...</td>\n",
       "      <td>...</td>\n",
       "      <td>...</td>\n",
       "      <td>...</td>\n",
       "      <td>...</td>\n",
       "      <td>...</td>\n",
       "      <td>...</td>\n",
       "      <td>...</td>\n",
       "      <td>...</td>\n",
       "      <td>...</td>\n",
       "      <td>...</td>\n",
       "      <td>...</td>\n",
       "      <td>...</td>\n",
       "      <td>...</td>\n",
       "      <td>...</td>\n",
       "      <td>...</td>\n",
       "    </tr>\n",
       "    <tr>\n",
       "      <th>113</th>\n",
       "      <td>mem</td>\n",
       "      <td>sas</td>\n",
       "      <td>A</td>\n",
       "      <td>20170425-mem-sas</td>\n",
       "      <td>21.0</td>\n",
       "      <td>103.0</td>\n",
       "      <td>116.0</td>\n",
       "      <td>1.0</td>\n",
       "      <td>32.016667</td>\n",
       "      <td>1.0</td>\n",
       "      <td>...</td>\n",
       "      <td>0.0</td>\n",
       "      <td>3700.0</td>\n",
       "      <td>0.0</td>\n",
       "      <td>3700.0</td>\n",
       "      <td>100.0</td>\n",
       "      <td>5750.0</td>\n",
       "      <td>0.0</td>\n",
       "      <td>15.6</td>\n",
       "      <td>11.8</td>\n",
       "      <td>12.0</td>\n",
       "    </tr>\n",
       "    <tr>\n",
       "      <th>184</th>\n",
       "      <td>lal</td>\n",
       "      <td>mem</td>\n",
       "      <td>A</td>\n",
       "      <td>20161203-lal-mem</td>\n",
       "      <td>20.0</td>\n",
       "      <td>100.0</td>\n",
       "      <td>103.0</td>\n",
       "      <td>0.0</td>\n",
       "      <td>31.566667</td>\n",
       "      <td>1.0</td>\n",
       "      <td>...</td>\n",
       "      <td>0.0</td>\n",
       "      <td>5200.0</td>\n",
       "      <td>0.0</td>\n",
       "      <td>5700.0</td>\n",
       "      <td>-100.0</td>\n",
       "      <td>8750.0</td>\n",
       "      <td>50.0</td>\n",
       "      <td>16.2</td>\n",
       "      <td>33.5</td>\n",
       "      <td>25.6</td>\n",
       "    </tr>\n",
       "    <tr>\n",
       "      <th>255</th>\n",
       "      <td>dal</td>\n",
       "      <td>por</td>\n",
       "      <td>H</td>\n",
       "      <td>20161104-por-dal</td>\n",
       "      <td>20.5</td>\n",
       "      <td>95.0</td>\n",
       "      <td>105.0</td>\n",
       "      <td>0.0</td>\n",
       "      <td>0.566667</td>\n",
       "      <td>1.0</td>\n",
       "      <td>...</td>\n",
       "      <td>0.0</td>\n",
       "      <td>3500.0</td>\n",
       "      <td>0.0</td>\n",
       "      <td>3000.0</td>\n",
       "      <td>0.0</td>\n",
       "      <td>5000.0</td>\n",
       "      <td>0.0</td>\n",
       "      <td>0.0</td>\n",
       "      <td>0.0</td>\n",
       "      <td>0.0</td>\n",
       "    </tr>\n",
       "    <tr>\n",
       "      <th>115</th>\n",
       "      <td>lal</td>\n",
       "      <td>mia</td>\n",
       "      <td>H</td>\n",
       "      <td>20170106-mia-lal</td>\n",
       "      <td>22.5</td>\n",
       "      <td>127.0</td>\n",
       "      <td>100.0</td>\n",
       "      <td>0.0</td>\n",
       "      <td>23.583333</td>\n",
       "      <td>1.0</td>\n",
       "      <td>...</td>\n",
       "      <td>0.0</td>\n",
       "      <td>4900.0</td>\n",
       "      <td>0.0</td>\n",
       "      <td>4800.0</td>\n",
       "      <td>-100.0</td>\n",
       "      <td>12350.0</td>\n",
       "      <td>-50.0</td>\n",
       "      <td>16.1</td>\n",
       "      <td>20.2</td>\n",
       "      <td>9.5</td>\n",
       "    </tr>\n",
       "    <tr>\n",
       "      <th>3</th>\n",
       "      <td>hou</td>\n",
       "      <td>nor</td>\n",
       "      <td>A</td>\n",
       "      <td>20170223-hou-nor</td>\n",
       "      <td>20.0</td>\n",
       "      <td>129.0</td>\n",
       "      <td>99.0</td>\n",
       "      <td>1.0</td>\n",
       "      <td>29.683333</td>\n",
       "      <td>1.0</td>\n",
       "      <td>...</td>\n",
       "      <td>0.0</td>\n",
       "      <td>12600.0</td>\n",
       "      <td>400.0</td>\n",
       "      <td>12500.0</td>\n",
       "      <td>300.0</td>\n",
       "      <td>25000.0</td>\n",
       "      <td>2300.0</td>\n",
       "      <td>68.4</td>\n",
       "      <td>51.2</td>\n",
       "      <td>50.2</td>\n",
       "    </tr>\n",
       "  </tbody>\n",
       "</table>\n",
       "<p>624 rows × 26 columns</p>\n",
       "</div>"
      ],
      "text/plain": [
       "    Team Against Home            GameID  GameTime  TeamPoints  OppPoints  \\\n",
       "566  lal     det    A  20170208-lal-det      19.5       102.0      121.0   \n",
       "501  cle     okc    A  20170209-cle-okc      20.0       109.0      118.0   \n",
       "508  cle     bkn    H  20161223-bkn-cle      19.5       119.0       99.0   \n",
       "674  cle     gsw    H  20161225-gsw-cle      14.5       109.0      108.0   \n",
       "669  dal     uta    A  20161102-dal-uta      21.0        81.0       97.0   \n",
       "..   ...     ...  ...               ...       ...         ...        ...   \n",
       "113  mem     sas    A  20170425-mem-sas      21.0       103.0      116.0   \n",
       "184  lal     mem    A  20161203-lal-mem      20.0       100.0      103.0   \n",
       "255  dal     por    H  20161104-por-dal      20.5        95.0      105.0   \n",
       "115  lal     mia    H  20170106-mia-lal      22.5       127.0      100.0   \n",
       "3    hou     nor    A  20170223-hou-nor      20.0       129.0       99.0   \n",
       "\n",
       "     Starting    Minutes  Appeared  ...  TripleD    FDSal  FDChange    DKSal  \\\n",
       "566       0.0  20.650000       1.0  ...      0.0   6300.0       0.0   5500.0   \n",
       "501       1.0  34.400000       1.0  ...      0.0   8400.0       0.0   8300.0   \n",
       "508       1.0  26.450000       1.0  ...      0.0   7500.0     200.0   7800.0   \n",
       "674       1.0  43.883333       1.0  ...      0.0   8000.0     500.0   7700.0   \n",
       "669       0.0  14.783333       1.0  ...      0.0   3800.0       0.0   3400.0   \n",
       "..        ...        ...       ...  ...      ...      ...       ...      ...   \n",
       "113       1.0  32.016667       1.0  ...      0.0   3700.0       0.0   3700.0   \n",
       "184       0.0  31.566667       1.0  ...      0.0   5200.0       0.0   5700.0   \n",
       "255       0.0   0.566667       1.0  ...      0.0   3500.0       0.0   3000.0   \n",
       "115       0.0  23.583333       1.0  ...      0.0   4900.0       0.0   4800.0   \n",
       "3         1.0  29.683333       1.0  ...      0.0  12600.0     400.0  12500.0   \n",
       "\n",
       "    DKChange    DDSal  DDChange  FDP_1  FDP_2  FDP_3  \n",
       "566   -400.0  11850.0    -650.0   28.4   30.8   22.4  \n",
       "501    600.0  17050.0     -50.0   40.5   30.7    0.0  \n",
       "508    300.0  16450.0    1450.0   55.7   39.5   50.2  \n",
       "674   -100.0  15950.0    -500.0   45.0   55.7   39.5  \n",
       "669   -500.0   6100.0    -450.0    4.6    9.5   20.1  \n",
       "..       ...      ...       ...    ...    ...    ...  \n",
       "113    100.0   5750.0       0.0   15.6   11.8   12.0  \n",
       "184   -100.0   8750.0      50.0   16.2   33.5   25.6  \n",
       "255      0.0   5000.0       0.0    0.0    0.0    0.0  \n",
       "115   -100.0  12350.0     -50.0   16.1   20.2    9.5  \n",
       "3      300.0  25000.0    2300.0   68.4   51.2   50.2  \n",
       "\n",
       "[624 rows x 26 columns]"
      ]
     },
     "execution_count": 18,
     "metadata": {},
     "output_type": "execute_result"
    }
   ],
   "source": [
    "x_train"
   ]
  },
  {
   "cell_type": "markdown",
   "id": "contrary-audit",
   "metadata": {},
   "source": [
    "## Linear Regression"
   ]
  },
  {
   "cell_type": "code",
   "execution_count": 3,
   "id": "protective-reserve",
   "metadata": {},
   "outputs": [
    {
     "data": {
      "text/plain": [
       "LinearRegression()"
      ]
     },
     "execution_count": 3,
     "metadata": {},
     "output_type": "execute_result"
    }
   ],
   "source": [
    "lr = LinearRegression()\n",
    "\n",
    "lr.fit(x_train, y_train)"
   ]
  },
  {
   "cell_type": "code",
   "execution_count": 4,
   "id": "cross-training",
   "metadata": {},
   "outputs": [
    {
     "data": {
      "text/plain": [
       "Text(0, 0.5, 'Residual')"
      ]
     },
     "execution_count": 4,
     "metadata": {},
     "output_type": "execute_result"
    },
    {
     "data": {
      "image/png": "[encoded data removed]",
      "text/plain": [
       "<Figure size 936x360 with 2 Axes>"
      ]
     },
     "metadata": {
      "needs_background": "light"
     },
     "output_type": "display_data"
    }
   ],
   "source": [
    "y_pred = lr.predict(x_test).squeeze()\n",
    "residuals = y_test.FDP.values - y_pred\n",
    "\n",
    "fig, ax = plt.subplots(1,2, figsize = (13,5))\n",
    "ax[0].scatter(y_pred, y_test.FDP.values)\n",
    "ax[0].set_title('True vs. Predicted: Linear Regression')\n",
    "ax[0].set_xlabel('Predicted')\n",
    "ax[0].set_ylabel('Actual')\n",
    "ax[1].scatter(y_pred, residuals)\n",
    "ax[1].set_title('Residuals vs. Predicted: Linear Regression')\n",
    "ax[1].set_xlabel('Predicted')\n",
    "ax[1].set_ylabel('Residual')"
   ]
  },
  {
   "cell_type": "markdown",
   "id": "double-migration",
   "metadata": {},
   "source": [
    "## Decision Tree"
   ]
  },
  {
   "cell_type": "code",
   "execution_count": 5,
   "id": "acute-oasis",
   "metadata": {},
   "outputs": [
    {
     "data": {
      "text/plain": [
       "DecisionTreeRegressor()"
      ]
     },
     "execution_count": 5,
     "metadata": {},
     "output_type": "execute_result"
    }
   ],
   "source": [
    "dt = DecisionTreeRegressor()\n",
    "dt.fit(x_train, y_train)"
   ]
  },
  {
   "cell_type": "code",
   "execution_count": 6,
   "id": "intensive-george",
   "metadata": {},
   "outputs": [
    {
     "data": {
      "text/plain": [
       "Text(0, 0.5, 'Residual')"
      ]
     },
     "execution_count": 6,
     "metadata": {},
     "output_type": "execute_result"
    },
    {
     "data": {
      "image/png": "[encoded data removed]",
      "text/plain": [
       "<Figure size 936x360 with 2 Axes>"
      ]
     },
     "metadata": {
      "needs_background": "light"
     },
     "output_type": "display_data"
    }
   ],
   "source": [
    "y_pred = dt.predict(x_test)\n",
    "residuals = y_test.FDP.values - y_pred\n",
    "\n",
    "fig, ax = plt.subplots(1,2, figsize = (13,5))\n",
    "ax[0].scatter(y_pred, y_test.FDP.values)\n",
    "ax[0].set_title('True vs. Predicted: Decision Tree')\n",
    "ax[0].set_xlabel('Predicted')\n",
    "ax[0].set_ylabel('Actual')\n",
    "ax[1].scatter(y_pred, residuals)\n",
    "ax[1].set_title('Residuals vs. Predicted: Decision Tree')\n",
    "ax[1].set_xlabel('Predicted')\n",
    "ax[1].set_ylabel('Residual')"
   ]
  },
  {
   "cell_type": "markdown",
   "id": "optimum-mortality",
   "metadata": {},
   "source": [
    "## Neighbor Regressor"
   ]
  },
  {
   "cell_type": "code",
   "execution_count": 7,
   "id": "dangerous-breeding",
   "metadata": {},
   "outputs": [
    {
     "data": {
      "text/plain": [
       "KNeighborsRegressor(n_neighbors=10)"
      ]
     },
     "execution_count": 7,
     "metadata": {},
     "output_type": "execute_result"
    }
   ],
   "source": [
    "kn = KNeighborsRegressor(10)\n",
    "kn.fit(x_test, y_test)"
   ]
  },
  {
   "cell_type": "code",
   "execution_count": 8,
   "id": "bridal-street",
   "metadata": {},
   "outputs": [
    {
     "data": {
      "text/plain": [
       "Text(0, 0.5, 'Residual')"
      ]
     },
     "execution_count": 8,
     "metadata": {},
     "output_type": "execute_result"
    },
    {
     "data": {
      "image/png": "[encoded data removed]",
      "text/plain": [
       "<Figure size 936x360 with 2 Axes>"
      ]
     },
     "metadata": {
      "needs_background": "light"
     },
     "output_type": "display_data"
    }
   ],
   "source": [
    "y_pred = dt.predict(x_test)\n",
    "residuals = y_test.FDP.values - y_pred\n",
    "\n",
    "fig, ax = plt.subplots(1,2, figsize = (13,5))\n",
    "ax[0].scatter(y_pred, y_test.FDP.values)\n",
    "ax[0].set_title('True vs. Predicted: Nearest Neighbors')\n",
    "ax[0].set_xlabel('Predicted')\n",
    "ax[0].set_ylabel('Actual')\n",
    "ax[1].scatter(y_pred, residuals)\n",
    "ax[1].set_title('Residuals vs. Predicted: Nearest Neighbors')\n",
    "ax[1].set_xlabel('Predicted')\n",
    "ax[1].set_ylabel('Residual')"
   ]
  },
  {
   "cell_type": "code",
   "execution_count": null,
   "id": "continuous-brown",
   "metadata": {},
   "outputs": [],
   "source": []
  }
 ],
 "metadata": {
  "kernelspec": {
   "display_name": "DeepHoops",
   "language": "python",
   "name": "deephoops"
  },
  "language_info": {
   "codemirror_mode": {
    "name": "ipython",
    "version": 3
   },
   "file_extension": ".py",
   "mimetype": "text/x-python",
   "name": "python",
   "nbconvert_exporter": "python",
   "pygments_lexer": "ipython3",
   "version": "3.8.5"
  }
 },
 "nbformat": 4,
 "nbformat_minor": 5
}
