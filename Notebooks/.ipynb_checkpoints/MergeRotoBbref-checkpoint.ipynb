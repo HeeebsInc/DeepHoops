{
 "cells": [
  {
   "cell_type": "code",
   "execution_count": 3,
   "id": "casual-emperor",
   "metadata": {},
   "outputs": [],
   "source": [
    "import pandas as pd\n",
    "import numpy as np\n",
    "import os\n",
    "import shutil"
   ]
  },
  {
   "cell_type": "markdown",
   "id": "prostate-cannon",
   "metadata": {},
   "source": [
    "- Since there are less files in roto than compared with bbref, we will load roto first then load the corresponding files found in bbref"
   ]
  },
  {
   "cell_type": "code",
   "execution_count": 2,
   "id": "mediterranean-montgomery",
   "metadata": {},
   "outputs": [],
   "source": [
    "roto_cleaned_dir = '/home/samuel-linux/PycharmProjects/Personal/FantasyBasketball/Data/roto-files/cleaned'\n",
    "bbref_cleaned_dir = f'/home/samuel-linux/PycharmProjects/Personal/FantasyBasketball/Data/bbref-files/cleaned'\n",
    "merged_data_dir = '/home/samuel-linux/PycharmProjects/Personal/FantasyBasketball/Data/merged-roto-bbref'"
   ]
  },
  {
   "cell_type": "code",
   "execution_count": 5,
   "id": "great-aaron",
   "metadata": {},
   "outputs": [],
   "source": [
    "ignore = ['.ipynb_checkpoints']\n",
    "roto_files = [i for i in os.listdir(roto_cleaned_dir) if i not in ignore]\n",
    "bbref_files = [i for i in os.listdir(bbref_cleaned_dir) if i in roto_files]"
   ]
  },
  {
   "cell_type": "code",
   "execution_count": 8,
   "id": "controversial-philip",
   "metadata": {},
   "outputs": [
    {
     "name": "stdout",
     "output_type": "stream",
     "text": [
      "['2019-20.csv', '2016-17.csv', '2017-18.csv', '2018-19.csv', '2020-21.csv']\n",
      "['2019-20.csv', '2016-17.csv', '2017-18.csv', '2018-19.csv']\n"
     ]
    }
   ],
   "source": [
    "print(roto_files)\n",
    "print(bbref_files)"
   ]
  },
  {
   "cell_type": "code",
   "execution_count": null,
   "id": "political-actor",
   "metadata": {},
   "outputs": [],
   "source": []
  }
 ],
 "metadata": {
  "kernelspec": {
   "display_name": "DeepHoops",
   "language": "python",
   "name": "deephoops"
  },
  "language_info": {
   "codemirror_mode": {
    "name": "ipython",
    "version": 3
   },
   "file_extension": ".py",
   "mimetype": "text/x-python",
   "name": "python",
   "nbconvert_exporter": "python",
   "pygments_lexer": "ipython3",
   "version": "3.8.5"
  }
 },
 "nbformat": 4,
 "nbformat_minor": 5
}
