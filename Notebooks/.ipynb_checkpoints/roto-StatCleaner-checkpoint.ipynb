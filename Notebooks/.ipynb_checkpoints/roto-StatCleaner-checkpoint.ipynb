{
 "cells": [
  {
   "cell_type": "code",
   "execution_count": 3,
   "id": "exact-monaco",
   "metadata": {},
   "outputs": [],
   "source": [
    "import pandas as pd\n",
    "import os\n",
    "import shutil\n",
    "import numpy as np"
   ]
  },
  {
   "cell_type": "code",
   "execution_count": 4,
   "id": "packed-hardwood",
   "metadata": {},
   "outputs": [],
   "source": [
    "data_dir = '/home/samuel-linux/PycharmProjects/Personal/FantasyBasketball/Data/roto-files'\n",
    "cleaned_data_dir = f'{data_dir}/cleaned'\n",
    "ignore = ['cleaned', 'txt-files', '.ipynb_checkpoints']\n",
    "csv_paths = [i for i in os.listdir(data_dir) if i not in ignore]"
   ]
  },
  {
   "cell_type": "markdown",
   "id": "useful-american",
   "metadata": {},
   "source": [
    "### Columns \n",
    "          \n",
    "`roto_columns = ['GID', 'Last, First', 'First  Last', 'Date', 'Team', 'Opp', 'H/A',\n",
    "       'GameID', 'GTime(ET)', 'Team pts', 'Opp pts', 'Start', 'Minutes', 'GP',\n",
    "       'active', 'FDP', 'DKP', 'DDP', 'YHP', 'Stats', 'DoubleD', 'TripleD',\n",
    "       'FD Sal', 'FD Change', 'DK Sal', 'DK Change', 'DD Sal', 'DD Change',\n",
    "       'YH Sal', 'YH Change', 'FD pos', 'DK pos', 'DD pos', 'YH pos']`"
   ]
  },
  {
   "cell_type": "code",
   "execution_count": 5,
   "id": "collected-sussex",
   "metadata": {},
   "outputs": [
    {
     "name": "stdout",
     "output_type": "stream",
     "text": [
      "\n",
      "Error in File: 2014-15.csv\n",
      "\n",
      "~~~~~~~~~~~~~~~~~~~~~~~~~~~~~~~~~~~~~~~~~~~~~~~~~~\n"
     ]
    }
   ],
   "source": [
    "def map_date(x):\n",
    "    x = str(x)\n",
    "    year = x[:4]\n",
    "    month = x[4:6]\n",
    "    day = x[6:]\n",
    "    return f'{year}-{month}-{day}'\n",
    "\n",
    "def map_name(x):\n",
    "    x = x.split(', ')\n",
    "    first = x[-1]\n",
    "    last = x[0]\n",
    "    name = f'{first} {last}'\n",
    "    return name\n",
    "\n",
    "original_columns = ['GID', 'Last, First', 'Date', 'Team', 'Opp', 'H/A',\n",
    "       'GameID', 'GTime(ET)', 'Team pts', 'Opp pts', 'Start', 'Minutes', 'GP',\n",
    "       'active', 'FDP', 'DKP', 'DDP', 'YHP', 'Stats', 'DoubleD', 'TripleD',\n",
    "       'FD Sal', 'FD Change', 'DK Sal', 'DK Change', 'DD Sal', 'DD Change',\n",
    "       'YH Sal', 'YH Change', 'FD pos', 'DK pos', 'DD pos', 'YH pos']\n",
    "new_columns = ['GID', 'Player', 'Date', 'Team', 'Against', 'Home', \n",
    "               'GameID', 'GameTime', 'TeamPoints', 'OppPoints', \n",
    "              'Starting', 'Minutes', 'Appeared', 'Active',\n",
    "               'FDP', 'DKP', 'DDP', 'YHP', 'Stats', 'DoubleD', 'TripleD', \n",
    "              'FDSal', 'FDChange', 'DKSal', 'DKChange', 'DDSal', 'DDChange', 'YHSal',\n",
    "              'YHChange', 'FDPos', 'DKPos', 'DDPos', 'YHPos']\n",
    "# for n, o in zip(new_columns, original_columns): \n",
    "#     print(f'{n}\\t{o}')\n",
    "# breakpoint()\n",
    "pieces = []\n",
    "rename_dict = {o:n for o, n in zip(original_columns, new_columns)}\n",
    "for path in csv_paths:\n",
    "    full_path = f'{data_dir}/{path}'\n",
    "    try:\n",
    "        df = pd.read_csv(full_path, delimiter = ':')[[i for i in original_columns]]\n",
    "        df.Date = df.Date.map(map_date)\n",
    "        df.Date = pd.to_datetime(df.Date)\n",
    "        df['Last, First'] = df['Last, First'].map(map_name)\n",
    "        df.rename(columns = rename_dict, inplace = True)\n",
    "        df.to_csv(f'{cleaned_data_dir}/{path}', index = False)\n",
    "        pieces.append(df)\n",
    "    except KeyError:\n",
    "        print(f'\\nError in File: {path}\\n')\n",
    "        print('~' * 50)\n",
    "        continue\n",
    "full_df = pd.concat(pieces)\n",
    "full_df.to_csv(f'{cleaned_data_dir}/Combined.csv', index = False)"
   ]
  },
  {
   "cell_type": "code",
   "execution_count": null,
   "id": "satellite-disney",
   "metadata": {},
   "outputs": [],
   "source": []
  }
 ],
 "metadata": {
  "kernelspec": {
   "display_name": "DeepHoops",
   "language": "python",
   "name": "deephoops"
  },
  "language_info": {
   "codemirror_mode": {
    "name": "ipython",
    "version": 3
   },
   "file_extension": ".py",
   "mimetype": "text/x-python",
   "name": "python",
   "nbconvert_exporter": "python",
   "pygments_lexer": "ipython3",
   "version": "3.8.5"
  }
 },
 "nbformat": 4,
 "nbformat_minor": 5
}
