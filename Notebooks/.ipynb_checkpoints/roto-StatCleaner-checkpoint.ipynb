{
 "cells": [
  {
   "cell_type": "code",
   "execution_count": 1,
   "id": "exact-monaco",
   "metadata": {},
   "outputs": [],
   "source": [
    "import pandas as pd\n",
    "import os\n",
    "import shutil\n",
    "import numpy as np"
   ]
  },
  {
   "cell_type": "code",
   "execution_count": 5,
   "id": "packed-hardwood",
   "metadata": {},
   "outputs": [],
   "source": [
    "data_dir = '/home/samuel-linux/PycharmProjects/Personal/FantasyBasketball/Data/roto-files'\n",
    "cleaned_data_dir = f'{data_dir}/cleaned'\n",
    "ignore = ['cleaned', 'txt-files', '.ipynb_checkpoints', 'shifted']\n",
    "csv_paths = [i for i in os.listdir(data_dir) if i not in ignore]"
   ]
  },
  {
   "cell_type": "markdown",
   "id": "useful-american",
   "metadata": {},
   "source": [
    "### Columns \n",
    "          \n",
    "`roto_columns = ['GID', 'Last, First', 'First  Last', 'Date', 'Team', 'Opp', 'H/A',\n",
    "       'GameID', 'GTime(ET)', 'Team pts', 'Opp pts', 'Start', 'Minutes', 'GP',\n",
    "       'active', 'FDP', 'DKP', 'DDP', 'YHP', 'Stats', 'DoubleD', 'TripleD',\n",
    "       'FD Sal', 'FD Change', 'DK Sal', 'DK Change', 'DD Sal', 'DD Change',\n",
    "       'YH Sal', 'YH Change', 'FD pos', 'DK pos', 'DD pos', 'YH pos']`"
   ]
  },
  {
   "cell_type": "code",
   "execution_count": 6,
   "id": "collected-sussex",
   "metadata": {},
   "outputs": [
    {
     "name": "stdout",
     "output_type": "stream",
     "text": [
      "\n",
      "Error in File: 2014-15.csv\n",
      "\n",
      "~~~~~~~~~~~~~~~~~~~~~~~~~~~~~~~~~~~~~~~~~~~~~~~~~~\n"
     ]
    }
   ],
   "source": [
    "def map_date(x):\n",
    "    x = str(x)\n",
    "    year = x[:4]\n",
    "    month = x[4:6]\n",
    "    day = x[6:]\n",
    "    return f'{year}-{month}-{day}'\n",
    "\n",
    "def map_name(x):\n",
    "    x = x.split(', ')\n",
    "    first = x[-1]\n",
    "    last = x[0]\n",
    "    name = f'{first} {last}'\n",
    "    return name\n",
    "\n",
    "original_columns = ['GID', 'Last, First', 'Date', 'Team', 'Opp', 'H/A',\n",
    "       'GameID', 'GTime(ET)', 'Team pts', 'Opp pts', 'Start', 'Minutes', 'GP',\n",
    "       'active', 'FDP', 'DKP', 'DDP', 'YHP', 'Stats', 'DoubleD', 'TripleD',\n",
    "       'FD Sal', 'FD Change', 'DK Sal', 'DK Change', 'DD Sal', 'DD Change',\n",
    "       'YH Sal', 'YH Change', 'FD pos', 'DK pos', 'DD pos', 'YH pos']\n",
    "new_columns = ['GID', 'Player', 'Date', 'Team', 'Against', 'Home', \n",
    "               'GameID', 'GameTime', 'TeamPoints', 'OppPoints', \n",
    "              'Starting', 'Minutes', 'Appeared', 'Active',\n",
    "               'FDP', 'DKP', 'DDP', 'YHP', 'Stats', 'DoubleD', 'TripleD', \n",
    "              'FDSal', 'FDChange', 'DKSal', 'DKChange', 'DDSal', 'DDChange', 'YHSal',\n",
    "              'YHChange', 'FDPos', 'DKPos', 'DDPos', 'YHPos']\n",
    "# for n, o in zip(new_columns, original_columns): \n",
    "#     print(f'{n}\\t{o}')\n",
    "# breakpoint()\n",
    "pieces = []\n",
    "rename_dict = {o:n for o, n in zip(original_columns, new_columns)}\n",
    "for path in csv_paths:\n",
    "    full_path = f'{data_dir}/{path}'\n",
    "    try:\n",
    "        df = pd.read_csv(full_path, delimiter = ':')[[i for i in original_columns]]\n",
    "        df.Date = df.Date.map(map_date)\n",
    "        df.Date = pd.to_datetime(df.Date)\n",
    "        df['Last, First'] = df['Last, First'].map(map_name)\n",
    "        df.rename(columns = rename_dict, inplace = True)\n",
    "        df.to_csv(f'{cleaned_data_dir}/{path}', index = False)\n",
    "        pieces.append(df)\n",
    "    except KeyError:\n",
    "        print(f'\\nError in File: {path}\\n')\n",
    "        print('~' * 50)\n",
    "        continue\n",
    "full_df = pd.concat(pieces)\n",
    "full_df.to_csv(f'{cleaned_data_dir}/Combined.csv', index = False)"
   ]
  },
  {
   "cell_type": "code",
   "execution_count": 73,
   "id": "satellite-disney",
   "metadata": {},
   "outputs": [],
   "source": [
    "def map_stats(row):\n",
    "#     x = x.Stats\n",
    "   \n",
    "#     x_split = x.split(' ')\n",
    "#     test = ['StatsTest', 'Pts', 'Rbs', 'FG', 'FG%', 'FT', 'FT%', 'Ass', 'Bl', '3pt', '3pt%']\n",
    "#     return [0 for i in range(len(test))]\n",
    "    stats = row.Stats\n",
    "    if str(stats) == 'nan': \n",
    "        return None\n",
    "    stats_split = stats.split(' ')\n",
    "    stat_dict = {'Pts': None, 'Rbs': None, 'FG': None, 'FG%': None, 'FT': None, \n",
    "                 'FT%': None, 'Ass': None, 'Bl': None, '3pt': None, '3pt%': None}\n",
    "    for stat in stats_split:\n",
    "        if 'pt' in stat:\n",
    "            stat = stat[:stat.find('pt')]\n",
    "            stat_dict['Pts'] = stat\n",
    "            continue\n",
    "        if 'rb' in stats:\n",
    "            stat = stat[:stat.find('rb')]\n",
    "            stat_dict['Rbs'] = stat\n",
    "    for key, value in stat_dict.items():\n",
    "        row[key] = value\n",
    "    return pd.Series(row)\n",
    "#     return_list = [value for key, value in stat_dict.items()]\n",
    "#     return return_list\n",
    "    \n",
    "\n",
    "stat_df = pd.DataFrame(columns = ['Pts', 'Rbs', 'FG', 'FG%', 'FT', 'FT%', 'Ass', 'Bl', '3pt', '3pt%'])\n",
    "stat_df = full_df[['Stats']].head(100).apply(map_stats, axis = 1, result_type = 'expand')"
   ]
  },
  {
   "cell_type": "code",
   "execution_count": 74,
   "id": "cubic-bulgarian",
   "metadata": {},
   "outputs": [
    {
     "data": {
      "text/plain": [
       "0                                                  None\n",
       "1     Stats    6pt 4rb 3-3fg\n",
       "Pts                  6\n",
       "...\n",
       "2     Stats    3pt 2rb 1bl 1-1fg 1-2ft\n",
       "Pts          ...\n",
       "3     Stats    3pt 2rb 1bl 1-1fg 1-2ft\n",
       "Pts          ...\n",
       "4     Stats    10pt 3rb 2to 1trey 4-4fg 1-2ft\n",
       "Pts   ...\n",
       "                            ...                        \n",
       "95                                                 None\n",
       "96                                                 None\n",
       "97                                                 None\n",
       "98                                                 None\n",
       "99                                                 None\n",
       "Length: 100, dtype: object"
      ]
     },
     "execution_count": 74,
     "metadata": {},
     "output_type": "execute_result"
    }
   ],
   "source": [
    "stat_df"
   ]
  },
  {
   "cell_type": "code",
   "execution_count": 21,
   "id": "frozen-bullet",
   "metadata": {},
   "outputs": [
    {
     "data": {
      "text/html": [
       "<div>\n",
       "<style scoped>\n",
       "    .dataframe tbody tr th:only-of-type {\n",
       "        vertical-align: middle;\n",
       "    }\n",
       "\n",
       "    .dataframe tbody tr th {\n",
       "        vertical-align: top;\n",
       "    }\n",
       "\n",
       "    .dataframe thead th {\n",
       "        text-align: right;\n",
       "    }\n",
       "</style>\n",
       "<table border=\"1\" class=\"dataframe\">\n",
       "  <thead>\n",
       "    <tr style=\"text-align: right;\">\n",
       "      <th></th>\n",
       "      <th>Stats</th>\n",
       "      <th>StatsTest</th>\n",
       "    </tr>\n",
       "  </thead>\n",
       "  <tbody>\n",
       "    <tr>\n",
       "      <th>0</th>\n",
       "      <td>NaN</td>\n",
       "      <td>None</td>\n",
       "    </tr>\n",
       "    <tr>\n",
       "      <th>1</th>\n",
       "      <td>6pt 4rb 3-3fg</td>\n",
       "      <td>[6pt, 4rb, 3-3fg]</td>\n",
       "    </tr>\n",
       "    <tr>\n",
       "      <th>2</th>\n",
       "      <td>3pt 2rb 1bl 1-1fg 1-2ft</td>\n",
       "      <td>[3pt, 2rb, 1bl, 1-1fg, 1-2ft]</td>\n",
       "    </tr>\n",
       "    <tr>\n",
       "      <th>3</th>\n",
       "      <td>3pt 2rb 1bl 1-1fg 1-2ft</td>\n",
       "      <td>[3pt, 2rb, 1bl, 1-1fg, 1-2ft]</td>\n",
       "    </tr>\n",
       "    <tr>\n",
       "      <th>4</th>\n",
       "      <td>10pt 3rb 2to 1trey 4-4fg 1-2ft</td>\n",
       "      <td>[10pt, 3rb, 2to, 1trey, 4-4fg, 1-2ft]</td>\n",
       "    </tr>\n",
       "    <tr>\n",
       "      <th>...</th>\n",
       "      <td>...</td>\n",
       "      <td>...</td>\n",
       "    </tr>\n",
       "    <tr>\n",
       "      <th>1016</th>\n",
       "      <td>18pt 5rb 1as 1bl 2to 3trey 5-9fg 5-5ft</td>\n",
       "      <td>[18pt, 5rb, 1as, 1bl, 2to, 3trey, 5-9fg, 5-5ft]</td>\n",
       "    </tr>\n",
       "    <tr>\n",
       "      <th>1017</th>\n",
       "      <td>15pt 5rb 2as 1to 3-5fg 9-10ft</td>\n",
       "      <td>[15pt, 5rb, 2as, 1to, 3-5fg, 9-10ft]</td>\n",
       "    </tr>\n",
       "    <tr>\n",
       "      <th>1018</th>\n",
       "      <td>NaN</td>\n",
       "      <td>None</td>\n",
       "    </tr>\n",
       "    <tr>\n",
       "      <th>1019</th>\n",
       "      <td>5pt 1rb 2as 2st 1trey 2-9fg</td>\n",
       "      <td>[5pt, 1rb, 2as, 2st, 1trey, 2-9fg]</td>\n",
       "    </tr>\n",
       "    <tr>\n",
       "      <th>1020</th>\n",
       "      <td>15pt 4rb 1st 1to 5-12fg 5-6ft</td>\n",
       "      <td>[15pt, 4rb, 1st, 1to, 5-12fg, 5-6ft]</td>\n",
       "    </tr>\n",
       "  </tbody>\n",
       "</table>\n",
       "<p>78023 rows × 2 columns</p>\n",
       "</div>"
      ],
      "text/plain": [
       "                                       Stats  \\\n",
       "0                                        NaN   \n",
       "1                              6pt 4rb 3-3fg   \n",
       "2                    3pt 2rb 1bl 1-1fg 1-2ft   \n",
       "3                    3pt 2rb 1bl 1-1fg 1-2ft   \n",
       "4             10pt 3rb 2to 1trey 4-4fg 1-2ft   \n",
       "...                                      ...   \n",
       "1016  18pt 5rb 1as 1bl 2to 3trey 5-9fg 5-5ft   \n",
       "1017           15pt 5rb 2as 1to 3-5fg 9-10ft   \n",
       "1018                                     NaN   \n",
       "1019             5pt 1rb 2as 2st 1trey 2-9fg   \n",
       "1020           15pt 4rb 1st 1to 5-12fg 5-6ft   \n",
       "\n",
       "                                            StatsTest  \n",
       "0                                                None  \n",
       "1                                   [6pt, 4rb, 3-3fg]  \n",
       "2                       [3pt, 2rb, 1bl, 1-1fg, 1-2ft]  \n",
       "3                       [3pt, 2rb, 1bl, 1-1fg, 1-2ft]  \n",
       "4               [10pt, 3rb, 2to, 1trey, 4-4fg, 1-2ft]  \n",
       "...                                               ...  \n",
       "1016  [18pt, 5rb, 1as, 1bl, 2to, 3trey, 5-9fg, 5-5ft]  \n",
       "1017             [15pt, 5rb, 2as, 1to, 3-5fg, 9-10ft]  \n",
       "1018                                             None  \n",
       "1019               [5pt, 1rb, 2as, 2st, 1trey, 2-9fg]  \n",
       "1020             [15pt, 4rb, 1st, 1to, 5-12fg, 5-6ft]  \n",
       "\n",
       "[78023 rows x 2 columns]"
      ]
     },
     "execution_count": 21,
     "metadata": {},
     "output_type": "execute_result"
    }
   ],
   "source": [
    "full_df[['Stats', 'StatsTest']]"
   ]
  },
  {
   "cell_type": "code",
   "execution_count": 16,
   "id": "strategic-score",
   "metadata": {},
   "outputs": [
    {
     "ename": "TypeError",
     "evalue": "unhashable type: 'list'",
     "output_type": "error",
     "traceback": [
      "\u001b[0;31m---------------------------------------------------------------------------\u001b[0m",
      "\u001b[0;31mTypeError\u001b[0m                                 Traceback (most recent call last)",
      "\u001b[0;32m<ipython-input-16-a04ae0d5fd55>\u001b[0m in \u001b[0;36m<module>\u001b[0;34m\u001b[0m\n\u001b[0;32m----> 1\u001b[0;31m \u001b[0mfull_df\u001b[0m\u001b[0;34m.\u001b[0m\u001b[0mStatsTest\u001b[0m\u001b[0;34m.\u001b[0m\u001b[0munique\u001b[0m\u001b[0;34m(\u001b[0m\u001b[0;34m)\u001b[0m\u001b[0;34m\u001b[0m\u001b[0;34m\u001b[0m\u001b[0m\n\u001b[0m",
      "\u001b[0;32m~/anaconda3/envs/FantasyBasketball/lib/python3.8/site-packages/pandas/core/series.py\u001b[0m in \u001b[0;36munique\u001b[0;34m(self)\u001b[0m\n\u001b[1;32m   1868\u001b[0m         \u001b[0mCategories\u001b[0m \u001b[0;34m(\u001b[0m\u001b[0;36m3\u001b[0m\u001b[0;34m,\u001b[0m \u001b[0mobject\u001b[0m\u001b[0;34m)\u001b[0m\u001b[0;34m:\u001b[0m \u001b[0;34m[\u001b[0m\u001b[0;34m'a'\u001b[0m \u001b[0;34m<\u001b[0m \u001b[0;34m'b'\u001b[0m \u001b[0;34m<\u001b[0m \u001b[0;34m'c'\u001b[0m\u001b[0;34m]\u001b[0m\u001b[0;34m\u001b[0m\u001b[0;34m\u001b[0m\u001b[0m\n\u001b[1;32m   1869\u001b[0m         \"\"\"\n\u001b[0;32m-> 1870\u001b[0;31m         \u001b[0mresult\u001b[0m \u001b[0;34m=\u001b[0m \u001b[0msuper\u001b[0m\u001b[0;34m(\u001b[0m\u001b[0;34m)\u001b[0m\u001b[0;34m.\u001b[0m\u001b[0munique\u001b[0m\u001b[0;34m(\u001b[0m\u001b[0;34m)\u001b[0m\u001b[0;34m\u001b[0m\u001b[0;34m\u001b[0m\u001b[0m\n\u001b[0m\u001b[1;32m   1871\u001b[0m         \u001b[0;32mreturn\u001b[0m \u001b[0mresult\u001b[0m\u001b[0;34m\u001b[0m\u001b[0;34m\u001b[0m\u001b[0m\n\u001b[1;32m   1872\u001b[0m \u001b[0;34m\u001b[0m\u001b[0m\n",
      "\u001b[0;32m~/anaconda3/envs/FantasyBasketball/lib/python3.8/site-packages/pandas/core/base.py\u001b[0m in \u001b[0;36munique\u001b[0;34m(self)\u001b[0m\n\u001b[1;32m   1045\u001b[0m                     \u001b[0mresult\u001b[0m \u001b[0;34m=\u001b[0m \u001b[0mnp\u001b[0m\u001b[0;34m.\u001b[0m\u001b[0masarray\u001b[0m\u001b[0;34m(\u001b[0m\u001b[0mresult\u001b[0m\u001b[0;34m)\u001b[0m\u001b[0;34m\u001b[0m\u001b[0;34m\u001b[0m\u001b[0m\n\u001b[1;32m   1046\u001b[0m         \u001b[0;32melse\u001b[0m\u001b[0;34m:\u001b[0m\u001b[0;34m\u001b[0m\u001b[0;34m\u001b[0m\u001b[0m\n\u001b[0;32m-> 1047\u001b[0;31m             \u001b[0mresult\u001b[0m \u001b[0;34m=\u001b[0m \u001b[0munique1d\u001b[0m\u001b[0;34m(\u001b[0m\u001b[0mvalues\u001b[0m\u001b[0;34m)\u001b[0m\u001b[0;34m\u001b[0m\u001b[0;34m\u001b[0m\u001b[0m\n\u001b[0m\u001b[1;32m   1048\u001b[0m \u001b[0;34m\u001b[0m\u001b[0m\n\u001b[1;32m   1049\u001b[0m         \u001b[0;32mreturn\u001b[0m \u001b[0mresult\u001b[0m\u001b[0;34m\u001b[0m\u001b[0;34m\u001b[0m\u001b[0m\n",
      "\u001b[0;32m~/anaconda3/envs/FantasyBasketball/lib/python3.8/site-packages/pandas/core/algorithms.py\u001b[0m in \u001b[0;36munique\u001b[0;34m(values)\u001b[0m\n\u001b[1;32m    405\u001b[0m \u001b[0;34m\u001b[0m\u001b[0m\n\u001b[1;32m    406\u001b[0m     \u001b[0mtable\u001b[0m \u001b[0;34m=\u001b[0m \u001b[0mhtable\u001b[0m\u001b[0;34m(\u001b[0m\u001b[0mlen\u001b[0m\u001b[0;34m(\u001b[0m\u001b[0mvalues\u001b[0m\u001b[0;34m)\u001b[0m\u001b[0;34m)\u001b[0m\u001b[0;34m\u001b[0m\u001b[0;34m\u001b[0m\u001b[0m\n\u001b[0;32m--> 407\u001b[0;31m     \u001b[0muniques\u001b[0m \u001b[0;34m=\u001b[0m \u001b[0mtable\u001b[0m\u001b[0;34m.\u001b[0m\u001b[0munique\u001b[0m\u001b[0;34m(\u001b[0m\u001b[0mvalues\u001b[0m\u001b[0;34m)\u001b[0m\u001b[0;34m\u001b[0m\u001b[0;34m\u001b[0m\u001b[0m\n\u001b[0m\u001b[1;32m    408\u001b[0m     \u001b[0muniques\u001b[0m \u001b[0;34m=\u001b[0m \u001b[0m_reconstruct_data\u001b[0m\u001b[0;34m(\u001b[0m\u001b[0muniques\u001b[0m\u001b[0;34m,\u001b[0m \u001b[0moriginal\u001b[0m\u001b[0;34m.\u001b[0m\u001b[0mdtype\u001b[0m\u001b[0;34m,\u001b[0m \u001b[0moriginal\u001b[0m\u001b[0;34m)\u001b[0m\u001b[0;34m\u001b[0m\u001b[0;34m\u001b[0m\u001b[0m\n\u001b[1;32m    409\u001b[0m     \u001b[0;32mreturn\u001b[0m \u001b[0muniques\u001b[0m\u001b[0;34m\u001b[0m\u001b[0;34m\u001b[0m\u001b[0m\n",
      "\u001b[0;32mpandas/_libs/hashtable_class_helper.pxi\u001b[0m in \u001b[0;36mpandas._libs.hashtable.PyObjectHashTable.unique\u001b[0;34m()\u001b[0m\n",
      "\u001b[0;32mpandas/_libs/hashtable_class_helper.pxi\u001b[0m in \u001b[0;36mpandas._libs.hashtable.PyObjectHashTable._unique\u001b[0;34m()\u001b[0m\n",
      "\u001b[0;31mTypeError\u001b[0m: unhashable type: 'list'"
     ]
    }
   ],
   "source": [
    "full_df.StatsTest.unique()"
   ]
  },
  {
   "cell_type": "code",
   "execution_count": null,
   "id": "covered-messenger",
   "metadata": {},
   "outputs": [],
   "source": []
  }
 ],
 "metadata": {
  "kernelspec": {
   "display_name": "DeepHoops",
   "language": "python",
   "name": "deephoops"
  },
  "language_info": {
   "codemirror_mode": {
    "name": "ipython",
    "version": 3
   },
   "file_extension": ".py",
   "mimetype": "text/x-python",
   "name": "python",
   "nbconvert_exporter": "python",
   "pygments_lexer": "ipython3",
   "version": "3.8.5"
  }
 },
 "nbformat": 4,
 "nbformat_minor": 5
}
