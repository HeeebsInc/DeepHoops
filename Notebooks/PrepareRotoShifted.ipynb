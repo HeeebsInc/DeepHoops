{
 "cells": [
  {
   "cell_type": "code",
   "execution_count": 1,
   "id": "numeric-lemon",
   "metadata": {},
   "outputs": [],
   "source": [
    "from sklearn.model_selection import train_test_split\n",
    "from sklearn.preprocessing import StandardScaler\n",
    "import pandas as pd\n",
    "import os\n",
    "import numpy as np\n",
    "import pickle\n",
    "from tqdm import  tqdm\n",
    "import shutil\n",
    "\n",
    "pd.options.mode.chained_assignment = None\n",
    "pd.options.display.min_rows = 50"
   ]
  },
  {
   "cell_type": "code",
   "execution_count": 2,
   "id": "united-yugoslavia",
   "metadata": {},
   "outputs": [],
   "source": [
    "data_dir = f'/home/samuel-linux/PycharmProjects/Personal/FantasyBasketball/Data'\n",
    "pickle_dir = f'{data_dir}/pickles'\n",
    "roto_cleaned_dir = f'{data_dir}/roto-files/cleaned'\n",
    "roto_shifted_dir = f'{data_dir}/roto-files/shifted'"
   ]
  },
  {
   "cell_type": "code",
   "execution_count": 3,
   "id": "spatial-aquarium",
   "metadata": {},
   "outputs": [],
   "source": [
    "csv_dict = {i: pd.read_csv(f'{roto_cleaned_dir}/{i}') for i in os.listdir(roto_cleaned_dir) if 'Combined' not in i}\n"
   ]
  },
  {
   "cell_type": "code",
   "execution_count": 4,
   "id": "exotic-zealand",
   "metadata": {},
   "outputs": [
    {
     "name": "stderr",
     "output_type": "stream",
     "text": [
      "2019-20.csv: Filling in NA Values: 100%|██████████| 956/956 [00:02<00:00, 424.68it/s]\n",
      "2016-17.csv: Filling in NA Values: 100%|██████████| 9/9 [00:00<00:00, 939.26it/s]\n",
      "2017-18.csv: Filling in NA Values: 100%|██████████| 77/77 [00:00<00:00, 1092.11it/s]\n",
      "2018-19.csv: Filling in NA Values: 100%|██████████| 821/821 [00:02<00:00, 347.10it/s]\n",
      "2020-21.csv: Filling in NA Values: 100%|██████████| 25/25 [00:00<00:00, 919.79it/s]\n"
     ]
    }
   ],
   "source": [
    "def fill_na(df_dict):\n",
    "    new_df_dict = {}\n",
    "    columns = ['Player', 'Date', 'FDP', 'FDSal']\n",
    "    for key, df in df_dict.items():\n",
    "#         df = df[[i for i in columns]]\n",
    "        df_none = df[(df.FDP.isnull()) | (df.FDSal.isnull())]\n",
    "        pbar = tqdm(df_none.iterrows(), total = len(df_none), desc = f'{key}: Filling in NA Values')\n",
    "        for idx, row in pbar:\n",
    "            player = row.Player\n",
    "            player_df = df[df.Player == player]\n",
    "            if str(row.FDP) == 'nan':\n",
    "                mean_fdp = player_df.FDP.mean()\n",
    "                if str(mean_fdp) == 'nan':\n",
    "                    mean_fdp = None\n",
    "                else:\n",
    "                    mean_fdp = round(mean_fdp, 2)\n",
    "                df.loc[idx, 'FDP'] = mean_fdp\n",
    "\n",
    "            if str(row.FDSal) == 'nan':\n",
    "                mean_fdsal = player_df.FDSal.mean()\n",
    "                if str(mean_fdsal) == 'nan':\n",
    "                    mean_fdsal = None\n",
    "                else:\n",
    "                    mean_fdsal = round(mean_fdsal, 2)\n",
    "                df.loc[idx, 'FDSal'] = mean_fdsal          \n",
    "        pbar.close()\n",
    "#         df.dropna(inplace = True)\n",
    "        df.dropna(subset = ['FDP', 'FDSal'])\n",
    "        new_df_dict[key] = df\n",
    "    return new_df_dict\n",
    "cleaned_df_dict = fill_na(csv_dict)\n",
    "        "
   ]
  },
  {
   "cell_type": "code",
   "execution_count": 5,
   "id": "instructional-receiver",
   "metadata": {},
   "outputs": [],
   "source": [
    "# cleaned_df_dict"
   ]
  },
  {
   "cell_type": "code",
   "execution_count": 6,
   "id": "designing-robinson",
   "metadata": {},
   "outputs": [
    {
     "name": "stderr",
     "output_type": "stream",
     "text": [
      "2019-20.csv: Shifting the DF w/ timestep 1: Willie Cauley-Stein: 100%|██████████| 641/641 [00:02<00:00, 266.46it/s]     \n",
      "2016-17.csv: Shifting the DF w/ timestep 1: James Harden: 100%|██████████| 14/14 [00:00<00:00, 272.02it/s]\n",
      "2017-18.csv: Shifting the DF w/ timestep 1: Cristiano Felicio: 100%|██████████| 14/14 [00:00<00:00, 306.00it/s]\n",
      "2018-19.csv: Shifting the DF w/ timestep 1: Willie Cauley-Stein: 100%|██████████| 557/557 [00:02<00:00, 214.36it/s]     \n",
      "2020-21.csv: Shifting the DF w/ timestep 1: Carmelo Anthony: 100%|██████████| 39/39 [00:00<00:00, 372.15it/s]\n",
      "2019-20.csv: Shifting the DF w/ timestep 2: Willie Cauley-Stein: 100%|██████████| 641/641 [00:02<00:00, 238.28it/s]     \n",
      "2016-17.csv: Shifting the DF w/ timestep 2: James Harden: 100%|██████████| 14/14 [00:00<00:00, 261.88it/s]\n",
      "2017-18.csv: Shifting the DF w/ timestep 2: Cristiano Felicio: 100%|██████████| 14/14 [00:00<00:00, 415.43it/s]\n",
      "2018-19.csv: Shifting the DF w/ timestep 2: Willie Cauley-Stein: 100%|██████████| 557/557 [00:02<00:00, 209.80it/s]     \n",
      "2020-21.csv: Shifting the DF w/ timestep 2: Carmelo Anthony: 100%|██████████| 39/39 [00:00<00:00, 359.84it/s]\n",
      "2019-20.csv: Shifting the DF w/ timestep 3: Willie Cauley-Stein: 100%|██████████| 641/641 [00:02<00:00, 218.41it/s]     \n",
      "2016-17.csv: Shifting the DF w/ timestep 3: James Harden: 100%|██████████| 14/14 [00:00<00:00, 262.79it/s]\n",
      "2017-18.csv: Shifting the DF w/ timestep 3: Cristiano Felicio: 100%|██████████| 14/14 [00:00<00:00, 304.49it/s]\n",
      "2018-19.csv: Shifting the DF w/ timestep 3: Willie Cauley-Stein: 100%|██████████| 557/557 [00:02<00:00, 189.79it/s]     \n",
      "2020-21.csv: Shifting the DF w/ timestep 3: Carmelo Anthony: 100%|██████████| 39/39 [00:00<00:00, 311.39it/s]  \n",
      "2019-20.csv: Shifting the DF w/ timestep 4: Willie Cauley-Stein: 100%|██████████| 641/641 [00:03<00:00, 178.23it/s]     \n",
      "2016-17.csv: Shifting the DF w/ timestep 4: James Harden: 100%|██████████| 14/14 [00:00<00:00, 279.92it/s]\n",
      "2017-18.csv: Shifting the DF w/ timestep 4: Cristiano Felicio: 100%|██████████| 14/14 [00:00<00:00, 301.22it/s]\n",
      "2018-19.csv: Shifting the DF w/ timestep 4: Willie Cauley-Stein: 100%|██████████| 557/557 [00:03<00:00, 176.99it/s]     \n",
      "2020-21.csv: Shifting the DF w/ timestep 4: Carmelo Anthony: 100%|██████████| 39/39 [00:00<00:00, 295.35it/s]  \n",
      "2019-20.csv: Shifting the DF w/ timestep 5: Willie Cauley-Stein: 100%|██████████| 641/641 [00:03<00:00, 182.74it/s]     \n",
      "2016-17.csv: Shifting the DF w/ timestep 5: James Harden: 100%|██████████| 14/14 [00:00<00:00, 241.48it/s]\n",
      "2017-18.csv: Shifting the DF w/ timestep 5: Cristiano Felicio: 100%|██████████| 14/14 [00:00<00:00, 224.08it/s]\n",
      "2018-19.csv: Shifting the DF w/ timestep 5: Willie Cauley-Stein: 100%|██████████| 557/557 [00:03<00:00, 147.10it/s]     \n",
      "2020-21.csv: Shifting the DF w/ timestep 5: Carmelo Anthony: 100%|██████████| 39/39 [00:00<00:00, 252.87it/s]  \n",
      "2019-20.csv: Shifting the DF w/ timestep 6: Willie Cauley-Stein: 100%|██████████| 641/641 [00:03<00:00, 172.16it/s]     \n",
      "2016-17.csv: Shifting the DF w/ timestep 6: James Harden: 100%|██████████| 14/14 [00:00<00:00, 241.33it/s]\n",
      "2017-18.csv: Shifting the DF w/ timestep 6: Cristiano Felicio: 100%|██████████| 14/14 [00:00<00:00, 248.30it/s]\n",
      "2018-19.csv: Shifting the DF w/ timestep 6: Willie Cauley-Stein: 100%|██████████| 557/557 [00:03<00:00, 153.34it/s]     \n",
      "2020-21.csv: Shifting the DF w/ timestep 6: Carmelo Anthony: 100%|██████████| 39/39 [00:00<00:00, 182.44it/s]         \n",
      "2019-20.csv: Shifting the DF w/ timestep 7: Willie Cauley-Stein: 100%|██████████| 641/641 [00:04<00:00, 153.70it/s]     \n",
      "2016-17.csv: Shifting the DF w/ timestep 7: James Harden: 100%|██████████| 14/14 [00:00<00:00, 212.22it/s]\n",
      "2017-18.csv: Shifting the DF w/ timestep 7: Cristiano Felicio: 100%|██████████| 14/14 [00:00<00:00, 234.17it/s]\n",
      "2018-19.csv: Shifting the DF w/ timestep 7: Willie Cauley-Stein: 100%|██████████| 557/557 [00:03<00:00, 147.47it/s]     \n",
      "2020-21.csv: Shifting the DF w/ timestep 7: Carmelo Anthony: 100%|██████████| 39/39 [00:00<00:00, 203.71it/s]  \n",
      "2019-20.csv: Shifting the DF w/ timestep 8: Willie Cauley-Stein: 100%|██████████| 641/641 [00:04<00:00, 156.57it/s]     \n",
      "2016-17.csv: Shifting the DF w/ timestep 8: James Harden: 100%|██████████| 14/14 [00:00<00:00, 194.93it/s]\n",
      "2017-18.csv: Shifting the DF w/ timestep 8: Cristiano Felicio: 100%|██████████| 14/14 [00:00<00:00, 194.52it/s]\n",
      "2018-19.csv: Shifting the DF w/ timestep 8: Willie Cauley-Stein: 100%|██████████| 557/557 [00:03<00:00, 141.11it/s]     \n",
      "2020-21.csv: Shifting the DF w/ timestep 8: Carmelo Anthony: 100%|██████████| 39/39 [00:00<00:00, 196.24it/s]      \n",
      "2019-20.csv: Shifting the DF w/ timestep 9: Willie Cauley-Stein: 100%|██████████| 641/641 [00:04<00:00, 144.69it/s]     \n",
      "2016-17.csv: Shifting the DF w/ timestep 9: James Harden: 100%|██████████| 14/14 [00:00<00:00, 163.96it/s]\n",
      "2017-18.csv: Shifting the DF w/ timestep 9: Cristiano Felicio: 100%|██████████| 14/14 [00:00<00:00, 184.92it/s]\n",
      "2018-19.csv: Shifting the DF w/ timestep 9: Willie Cauley-Stein: 100%|██████████| 557/557 [00:04<00:00, 124.81it/s]     \n",
      "2020-21.csv: Shifting the DF w/ timestep 9: Carmelo Anthony: 100%|██████████| 39/39 [00:00<00:00, 177.27it/s]         \n",
      "2019-20.csv: Shifting the DF w/ timestep 10: Willie Cauley-Stein: 100%|██████████| 641/641 [00:04<00:00, 135.50it/s]     \n",
      "2016-17.csv: Shifting the DF w/ timestep 10: James Harden: 100%|██████████| 14/14 [00:00<00:00, 163.90it/s]\n",
      "2017-18.csv: Shifting the DF w/ timestep 10: Cristiano Felicio: 100%|██████████| 14/14 [00:00<00:00, 168.83it/s]\n",
      "2018-19.csv: Shifting the DF w/ timestep 10: Willie Cauley-Stein: 100%|██████████| 557/557 [00:04<00:00, 124.84it/s]     \n",
      "2020-21.csv: Shifting the DF w/ timestep 10: Carmelo Anthony: 100%|██████████| 39/39 [00:00<00:00, 170.75it/s]         \n",
      "2019-20.csv: Shifting the DF w/ timestep 11: Willie Cauley-Stein: 100%|██████████| 641/641 [00:05<00:00, 125.34it/s]     \n",
      "2016-17.csv: Shifting the DF w/ timestep 11: James Harden: 100%|██████████| 14/14 [00:00<00:00, 140.10it/s]\n",
      "2017-18.csv: Shifting the DF w/ timestep 11: Cristiano Felicio: 100%|██████████| 14/14 [00:00<00:00, 168.06it/s]\n",
      "2018-19.csv: Shifting the DF w/ timestep 11: Willie Cauley-Stein: 100%|██████████| 557/557 [00:04<00:00, 114.49it/s]     \n",
      "2020-21.csv: Shifting the DF w/ timestep 11: Carmelo Anthony: 100%|██████████| 39/39 [00:00<00:00, 158.91it/s]         \n",
      "2019-20.csv: Shifting the DF w/ timestep 12: Willie Cauley-Stein: 100%|██████████| 641/641 [00:05<00:00, 123.87it/s]     \n",
      "2016-17.csv: Shifting the DF w/ timestep 12: James Harden: 100%|██████████| 14/14 [00:00<00:00, 140.01it/s]\n",
      "2017-18.csv: Shifting the DF w/ timestep 12: Cristiano Felicio: 100%|██████████| 14/14 [00:00<00:00, 150.12it/s]\n",
      "2018-19.csv: Shifting the DF w/ timestep 12: Willie Cauley-Stein: 100%|██████████| 557/557 [00:04<00:00, 117.40it/s]     \n",
      "2020-21.csv: Shifting the DF w/ timestep 12: Carmelo Anthony: 100%|██████████| 39/39 [00:00<00:00, 150.86it/s]         \n",
      "2019-20.csv: Shifting the DF w/ timestep 13: Willie Cauley-Stein: 100%|██████████| 641/641 [00:05<00:00, 112.76it/s]     \n",
      "2016-17.csv: Shifting the DF w/ timestep 13: James Harden: 100%|██████████| 14/14 [00:00<00:00, 144.70it/s]\n",
      "2017-18.csv: Shifting the DF w/ timestep 13: Cristiano Felicio: 100%|██████████| 14/14 [00:00<00:00, 138.46it/s]\n",
      "2018-19.csv: Shifting the DF w/ timestep 13: Willie Cauley-Stein: 100%|██████████| 557/557 [00:05<00:00, 109.70it/s]     \n",
      "2020-21.csv: Shifting the DF w/ timestep 13: Carmelo Anthony: 100%|██████████| 39/39 [00:00<00:00, 142.78it/s]         \n",
      "2019-20.csv: Shifting the DF w/ timestep 14: Willie Cauley-Stein: 100%|██████████| 641/641 [00:05<00:00, 111.35it/s]     \n",
      "2016-17.csv: Shifting the DF w/ timestep 14: James Harden: 100%|██████████| 14/14 [00:00<00:00, 121.24it/s]\n",
      "2017-18.csv: Shifting the DF w/ timestep 14: Cristiano Felicio: 100%|██████████| 14/14 [00:00<00:00, 131.31it/s]\n",
      "2018-19.csv: Shifting the DF w/ timestep 14: Willie Cauley-Stein: 100%|██████████| 557/557 [00:05<00:00, 97.71it/s]     \n",
      "2020-21.csv: Shifting the DF w/ timestep 14: Carmelo Anthony: 100%|██████████| 39/39 [00:00<00:00, 131.15it/s]         \n"
     ]
    },
    {
     "name": "stderr",
     "output_type": "stream",
     "text": [
      "2019-20.csv: Shifting the DF w/ timestep 15: Willie Cauley-Stein: 100%|██████████| 641/641 [00:05<00:00, 109.68it/s]     \n",
      "2016-17.csv: Shifting the DF w/ timestep 15: James Harden: 100%|██████████| 14/14 [00:00<00:00, 133.37it/s]\n",
      "2017-18.csv: Shifting the DF w/ timestep 15: Cristiano Felicio: 100%|██████████| 14/14 [00:00<00:00, 121.24it/s]\n",
      "2018-19.csv: Shifting the DF w/ timestep 15: Willie Cauley-Stein: 100%|██████████| 557/557 [00:05<00:00, 100.84it/s]     \n",
      "2020-21.csv: Shifting the DF w/ timestep 15: Carmelo Anthony: 100%|██████████| 39/39 [00:00<00:00, 136.28it/s]         \n",
      "2019-20.csv: Shifting the DF w/ timestep 16: Willie Cauley-Stein: 100%|██████████| 641/641 [00:06<00:00, 102.52it/s]    \n",
      "2016-17.csv: Shifting the DF w/ timestep 16: James Harden: 100%|██████████| 14/14 [00:00<00:00, 118.94it/s]\n",
      "2017-18.csv: Shifting the DF w/ timestep 16: Cristiano Felicio: 100%|██████████| 14/14 [00:00<00:00, 126.53it/s]\n",
      "2018-19.csv: Shifting the DF w/ timestep 16: Willie Cauley-Stein: 100%|██████████| 557/557 [00:05<00:00, 96.69it/s]      \n",
      "2020-21.csv: Shifting the DF w/ timestep 16: Carmelo Anthony: 100%|██████████| 39/39 [00:00<00:00, 122.56it/s]         \n",
      "2019-20.csv: Shifting the DF w/ timestep 17: Willie Cauley-Stein: 100%|██████████| 641/641 [00:06<00:00, 103.11it/s]    \n",
      "2016-17.csv: Shifting the DF w/ timestep 17: James Harden: 100%|██████████| 14/14 [00:00<00:00, 131.23it/s]\n",
      "2017-18.csv: Shifting the DF w/ timestep 17: Cristiano Felicio: 100%|██████████| 14/14 [00:00<00:00, 134.62it/s]\n",
      "2018-19.csv: Shifting the DF w/ timestep 17: Willie Cauley-Stein: 100%|██████████| 557/557 [00:05<00:00, 98.49it/s]     \n",
      "2020-21.csv: Shifting the DF w/ timestep 17: Carmelo Anthony: 100%|██████████| 39/39 [00:00<00:00, 124.82it/s]         \n",
      "2019-20.csv: Shifting the DF w/ timestep 18: Willie Cauley-Stein: 100%|██████████| 641/641 [00:06<00:00, 98.01it/s]     \n",
      "2016-17.csv: Shifting the DF w/ timestep 18: James Harden: 100%|██████████| 14/14 [00:00<00:00, 114.82it/s]     \n",
      "2017-18.csv: Shifting the DF w/ timestep 18: Cristiano Felicio: 100%|██████████| 14/14 [00:00<00:00, 118.01it/s]\n",
      "2018-19.csv: Shifting the DF w/ timestep 18: Willie Cauley-Stein: 100%|██████████| 557/557 [00:05<00:00, 96.42it/s]     \n",
      "2020-21.csv: Shifting the DF w/ timestep 18: Carmelo Anthony: 100%|██████████| 39/39 [00:00<00:00, 113.62it/s]         \n",
      "2019-20.csv: Shifting the DF w/ timestep 19: Willie Cauley-Stein: 100%|██████████| 641/641 [00:06<00:00, 97.17it/s]     \n",
      "2016-17.csv: Shifting the DF w/ timestep 19: James Harden: 100%|██████████| 14/14 [00:00<00:00, 113.08it/s]     \n",
      "2017-18.csv: Shifting the DF w/ timestep 19: Cristiano Felicio: 100%|██████████| 14/14 [00:00<00:00, 111.12it/s]\n",
      "2018-19.csv: Shifting the DF w/ timestep 19: Willie Cauley-Stein: 100%|██████████| 557/557 [00:05<00:00, 92.87it/s]     \n",
      "2020-21.csv: Shifting the DF w/ timestep 19: Carmelo Anthony: 100%|██████████| 39/39 [00:00<00:00, 110.98it/s]         \n",
      "2019-20.csv: Shifting the DF w/ timestep 20: Willie Cauley-Stein: 100%|██████████| 641/641 [00:06<00:00, 92.85it/s]     \n",
      "2016-17.csv: Shifting the DF w/ timestep 20: James Harden: 100%|██████████| 14/14 [00:00<00:00, 100.21it/s]    \n",
      "2017-18.csv: Shifting the DF w/ timestep 20: Cristiano Felicio: 100%|██████████| 14/14 [00:00<00:00, 107.78it/s]\n",
      "2018-19.csv: Shifting the DF w/ timestep 20: Willie Cauley-Stein: 100%|██████████| 557/557 [00:06<00:00, 86.93it/s]     \n",
      "2020-21.csv: Shifting the DF w/ timestep 20: Carmelo Anthony: 100%|██████████| 39/39 [00:00<00:00, 93.68it/s]         \n"
     ]
    }
   ],
   "source": [
    "def create_full_shift(df_dict, columns, timestep):\n",
    "    df_pieces = []\n",
    "    for key, df in df_dict.items():\n",
    "        season = key[:key.find('.csv')]\n",
    "        df.Date = pd.to_datetime(df.Date)\n",
    "        pieces = []\n",
    "        unique_players = df.Player.unique()\n",
    "        pbar = tqdm(unique_players)\n",
    "        player_pieces = []\n",
    "        for player in pbar: \n",
    "            pbar.set_description(f'{key}: Shifting the DF w/ timestep {timestep}: {player}')\n",
    "            player_df = df[df.Player == player]\n",
    "            player_df = player_df.sort_values(by = 'Date', ascending = True)\n",
    "            for column in columns:\n",
    "#                 player_df[column] = StandardScaler().fit_transform(player_df[column].values.reshape(-1,1))\n",
    "                for step in range(1, timestep + 1):\n",
    "                    player_df[f'{column}_{step}'] = player_df[column].shift(step)\n",
    "            player_pieces.append(player_df)\n",
    "        final_df = pd.concat(player_pieces)\n",
    "        final_df['Season'] = [season for i in range(len(final_df))]\n",
    "        df_pieces.append(final_df)\n",
    "    full_final_shifted = pd.concat(df_pieces)\n",
    "    full_final_shifted.dropna(inplace = True)\n",
    "    full_final_shifted.to_csv(f'{roto_shifted_dir}/Combined_{timestep}.csv', index = False)\n",
    "      \n",
    "    return full_final_shifted\n",
    "\n",
    "# test_df = create_full_shift(cleaned_df_dict, ['FDP'], 5)\n",
    "# test_df\n",
    "shutil.rmtree(roto_shifted_dir)\n",
    "os.mkdir(roto_shifted_dir)\n",
    "df_dict = {}\n",
    "for timestep in range(1, 21):       \n",
    "    df_dict[timestep] = create_full_shift(cleaned_df_dict, ['FDP'], timestep) "
   ]
  },
  {
   "cell_type": "code",
   "execution_count": 12,
   "id": "imperial-extra",
   "metadata": {},
   "outputs": [
    {
     "name": "stderr",
     "output_type": "stream",
     "text": [
      "20 | Getting Pickles...: 100%|██████████| 20/20 [00:00<00:00, 164.23it/s]\n"
     ]
    }
   ],
   "source": [
    "def create_shift_splits(df_dict):\n",
    "    shifted_pickle_dir = f'{pickle_dir}/roto/shifted'\n",
    "    shutil.rmtree(shifted_pickle_dir)\n",
    "    os.mkdir(shifted_pickle_dir)\n",
    "    pbar = tqdm(df_dict.items(), total = len(df_dict))\n",
    "    for timestep, df in pbar:\n",
    "        pbar.set_description(f'{timestep} | Getting Pickles...')\n",
    "        sampled_df = df.sample(frac = 1).reset_index(drop = True)\n",
    "#         feature_columns = [i for i in sampled_df.columns if '_' in i]\n",
    "#         X = sampled_df[['Player']+feature_columns]\n",
    "        ignore = ['FDP', 'YHSal', 'YHChange', 'FDPos', 'DKPos', 'DDPos', 'YHPos', 'Season', 'GID', 'Date']\n",
    "        X = sampled_df[[i for i in sampled_df if i not in ignore]]\n",
    "        Y = sampled_df[['FDP']]\n",
    "        x_train, x_test, y_train, y_test = train_test_split(X, Y, random_state = 10, \n",
    "                                                           train_size = .8)       \n",
    "        x_train, x_val, y_train, y_val = train_test_split(x_train, y_train, random_state = 10, train_size = .9)\n",
    "        \n",
    "#         sc = StandardScaler()\n",
    "#         final_pickle_dict = { }\n",
    "        pickle_dict = {'x_train': x_train, 'x_test': x_test, 'x_val': x_val, \n",
    "                      'y_train': y_train, 'y_test': y_test, 'y_val': y_val}\n",
    "        \n",
    "#         for key, df in pickle_dict.items():\n",
    "#             unique_players = df.Player.unique()\n",
    "#             df_pieces = []\n",
    "#             for player in unique_players:\n",
    "#                 player_df = df[df.Player == player]\n",
    "#                 print(len(player_df))\n",
    "#                 for c in feature_columns:\n",
    "#                     player_df[c] = sc.fit_transform(player_df[c].values.reshape(-1,1))\n",
    "#                     print(player_df)\n",
    "#                 df_pieces.append(player_df)\n",
    "#             final_df = pd.concat(df_pieces)\n",
    "#             final_pickle_dict[key] = final_df\n",
    "    \n",
    "        pickle.dump(pickle_dict, open(f'{shifted_pickle_dir}/{timestep}-TrainTestSplit.p', 'wb'))\n",
    "    pbar.close()\n",
    "        \n",
    "        \n",
    "create_shift_splits(df_dict)"
   ]
  },
  {
   "cell_type": "code",
   "execution_count": 13,
   "id": "opposed-ferry",
   "metadata": {},
   "outputs": [
    {
     "ename": "AssertionError",
     "evalue": "",
     "output_type": "error",
     "traceback": [
      "\u001b[0;31m---------------------------------------------------------------------------\u001b[0m",
      "\u001b[0;31mAssertionError\u001b[0m                            Traceback (most recent call last)",
      "\u001b[0;32m<ipython-input-13-a871fdc9ebee>\u001b[0m in \u001b[0;36m<module>\u001b[0;34m\u001b[0m\n\u001b[0;32m----> 1\u001b[0;31m \u001b[0;32massert\u001b[0m \u001b[0;32mFalse\u001b[0m\u001b[0;34m\u001b[0m\u001b[0;34m\u001b[0m\u001b[0m\n\u001b[0m",
      "\u001b[0;31mAssertionError\u001b[0m: "
     ]
    }
   ],
   "source": [
    "assert False"
   ]
  },
  {
   "cell_type": "code",
   "execution_count": null,
   "id": "handled-imaging",
   "metadata": {},
   "outputs": [],
   "source": [
    "# test = shifted_df[shifted_df.Player == 'Drew Eubanks'].sort_values(by = 'Date', ascending = False)\n",
    "# test"
   ]
  },
  {
   "cell_type": "code",
   "execution_count": null,
   "id": "ranking-medium",
   "metadata": {},
   "outputs": [],
   "source": [
    "assert False"
   ]
  },
  {
   "cell_type": "code",
   "execution_count": null,
   "id": "animal-biography",
   "metadata": {},
   "outputs": [],
   "source": [
    "original_df = pd.read_csv(f'{data_dir}/roto-files/cleaned/Combined.csv')\n",
    "print(original_df.shape)\n",
    "print(original_df.columns)"
   ]
  },
  {
   "cell_type": "code",
   "execution_count": null,
   "id": "nervous-istanbul",
   "metadata": {},
   "outputs": [],
   "source": [
    "columns = ['Player', 'Date', 'FDP', 'FDSal']\n",
    "df = original_df[[i for i in columns]]\n",
    "# print(df.info())\n",
    "\n",
    "df_none = df[(df.FDP.isnull()) | (df.FDSal.isnull())]\n",
    "\n",
    "pbar = tqdm(df_none.iterrows(), total = len(df_none), desc = 'Filling in NA Values')\n",
    "\n",
    "for idx, row in pbar:\n",
    "    player = row.Player\n",
    "    player_df = df[df.Player == player]\n",
    "    if str(row.FDP) == 'nan':\n",
    "        mean_fdp = player_df.FDP.mean()\n",
    "        if str(mean_fdp) == 'nan':\n",
    "            mean_fdp = None\n",
    "        else:\n",
    "            mean_fdp = round(mean_fdp, 2)\n",
    "        df.loc[idx, 'FDP'] = mean_fdp\n",
    "    \n",
    "    if str(row.FDSal) == 'nan':\n",
    "        mean_fdsal = player_df.FDSal.mean()\n",
    "        if str(mean_fdsal) == 'nan':\n",
    "            mean_fdsal = None\n",
    "        else:\n",
    "            mean_fdsal = round(mean_fdsal, 2)\n",
    "        df.loc[idx, 'FDSal'] = mean_fdsal          \n",
    "pbar.close()\n",
    "\n",
    "df.dropna(inplace = True)"
   ]
  },
  {
   "cell_type": "code",
   "execution_count": null,
   "id": "square-massachusetts",
   "metadata": {},
   "outputs": [],
   "source": []
  },
  {
   "cell_type": "code",
   "execution_count": null,
   "id": "typical-twist",
   "metadata": {},
   "outputs": [],
   "source": [
    "def create_timestep(df, columns, timestep):\n",
    "    df.Date = pd.to_datetime(df.Date)\n",
    "    df_copy = df.copy()\n",
    "    pieces = []\n",
    "    unique_players = df.Player.unique()\n",
    "    pbar = tqdm(unique_players)\n",
    "    for player in pbar: \n",
    "        pbar.set_description(f'Shifting the DF w/ timestep {timestep}: {player}')\n",
    "        player_df = df[df.Player == player]\n",
    "        player_df = player_df.sort_values(by = 'Date', ascending = True)\n",
    "        unique_years = df.Date.dt.strftime('%y').unique()\n",
    "        for year in unique_years:\n",
    "            player_year_df = player_df[player_df.Date.dt.strftime('%y') == year]\n",
    "            if len(player_year_df) == 0:\n",
    "                continue           \n",
    "            for column in columns:\n",
    "                player_year_df[column] = StandardScaler().fit_transform(player_year_df[column].values.reshape(-1,1))\n",
    "                for step in range(1, timestep + 1):\n",
    "                    player_year_df[f'{column}_{step}'] = player_year_df[column].shift(-step)\n",
    "            pieces.append(player_year_df)\n",
    "        break\n",
    "    pbar.close()\n",
    "    full_df = pd.concat(pieces)\n",
    "    full_df.sort_values(by = 'Date', inplace = True)\n",
    "    full_df.to_csv(f'{data_dir}/roto-files/shifted/RotoShifted_{timestep}.csv', index = False)\n",
    "    return full_df\n",
    "\n",
    "\n",
    "df_dict = {}\n",
    "for timestep in range(1, 21):       \n",
    "    df_dict[timestep] = create_timestep(df, ['FDP'], timestep) \n",
    "    break"
   ]
  },
  {
   "cell_type": "code",
   "execution_count": null,
   "id": "identified-possession",
   "metadata": {},
   "outputs": [],
   "source": [
    "# df_dict[1]"
   ]
  },
  {
   "cell_type": "code",
   "execution_count": null,
   "id": "portable-joshua",
   "metadata": {},
   "outputs": [],
   "source": [
    "from sklearn.model_selection import train_test_split\n",
    "from sklearn.preprocessing import StandardScaler\n",
    "\n",
    "\n",
    "df_split_dict = {}\n",
    "for timestep, df in df_dict.items():\n",
    "    X_df = df[[i for i in df.columns if '_' in i]]\n",
    "    Y_df = df[['FDP']]"
   ]
  },
  {
   "cell_type": "code",
   "execution_count": null,
   "id": "recorded-zimbabwe",
   "metadata": {},
   "outputs": [],
   "source": []
  },
  {
   "cell_type": "code",
   "execution_count": null,
   "id": "unknown-cricket",
   "metadata": {},
   "outputs": [],
   "source": []
  },
  {
   "cell_type": "code",
   "execution_count": null,
   "id": "molecular-blogger",
   "metadata": {},
   "outputs": [],
   "source": [
    "shifted_df.info(), shifted_df.shape"
   ]
  },
  {
   "cell_type": "code",
   "execution_count": null,
   "id": "second-recommendation",
   "metadata": {},
   "outputs": [],
   "source": [
    "len(shifted_df), len(df[df.Player == 'Drew Eubanks'])"
   ]
  },
  {
   "cell_type": "code",
   "execution_count": null,
   "id": "greater-celtic",
   "metadata": {},
   "outputs": [],
   "source": [
    "# shifted_df"
   ]
  },
  {
   "cell_type": "code",
   "execution_count": null,
   "id": "under-leonard",
   "metadata": {},
   "outputs": [],
   "source": [
    "# shifted_df.sort_values(by = 'Date').head(25)"
   ]
  },
  {
   "cell_type": "code",
   "execution_count": null,
   "id": "cognitive-chuck",
   "metadata": {},
   "outputs": [],
   "source": [
    "# test_df = df[df.Player =='Drew Eubanks'].sort_values(by = 'Date')\n",
    "# test_df[test_df.FDP == 9.6]"
   ]
  },
  {
   "cell_type": "code",
   "execution_count": null,
   "id": "tender-thanks",
   "metadata": {},
   "outputs": [],
   "source": [
    "assert False"
   ]
  }
 ],
 "metadata": {
  "kernelspec": {
   "display_name": "DeepHoops",
   "language": "python",
   "name": "deephoops"
  },
  "language_info": {
   "codemirror_mode": {
    "name": "ipython",
    "version": 3
   },
   "file_extension": ".py",
   "mimetype": "text/x-python",
   "name": "python",
   "nbconvert_exporter": "python",
   "pygments_lexer": "ipython3",
   "version": "3.8.5"
  }
 },
 "nbformat": 4,
 "nbformat_minor": 5
}
