{
 "cells": [
  {
   "cell_type": "code",
   "execution_count": 1,
   "id": "sophisticated-granny",
   "metadata": {},
   "outputs": [],
   "source": [
    "import pandas as pd\n",
    "import os\n",
    "import shutil\n",
    "import numpy as np"
   ]
  },
  {
   "cell_type": "code",
   "execution_count": 2,
   "id": "ethical-wholesale",
   "metadata": {},
   "outputs": [],
   "source": [
    "data_dir = '/home/samuel-linux/PycharmProjects/Personal/FantasyBasketball/Data/bbref-files'\n",
    "cleaned_data_dir = f'{data_dir}/cleaned'\n",
    "ignore = ['cleaned', 'ipynb_checkpoints']\n",
    "file_paths = [i for i in os.listdir(data_dir) if i not in ignore]"
   ]
  },
  {
   "cell_type": "code",
   "execution_count": null,
   "id": "foreign-infrared",
   "metadata": {},
   "outputs": [],
   "source": [
    "team_names = []\n",
    "for csv_path in file_paths:\n",
    "    csv_path = f'{data_dir}/{csv_path}'\n",
    "    df = pd.read_csv(csv_path)\n",
    "    team_names += df.Team.unique().tolist()\n",
    "    team_names += df.Against.unique().tolist()"
   ]
  },
  {
   "cell_type": "code",
   "execution_count": null,
   "id": "prescribed-deficit",
   "metadata": {},
   "outputs": [],
   "source": [
    "print(set(team_names))"
   ]
  },
  {
   "cell_type": "code",
   "execution_count": null,
   "id": "heavy-january",
   "metadata": {},
   "outputs": [],
   "source": [
    "# df[(df.Team == 'New Orleans/Oklahoma City Hornets') | (df.Against == 'New Orleans/Oklahoma City Hornets')]#.GameLink.values[0]"
   ]
  },
  {
   "cell_type": "code",
   "execution_count": null,
   "id": "proper-shakespeare",
   "metadata": {},
   "outputs": [],
   "source": [
    "def convert_teams(x):\n",
    "    if x in ['Se', 'tle SuperSonics']:\n",
    "        return 'Seattle SuperSonics'\n",
    "    elif x in ['Golden St', 'e Warriors']: \n",
    "        return 'Golden State Warriors'\n",
    "    elif x in ['Miami H', 'Miami He']: \n",
    "        return 'Miami Heat'\n",
    "    elif x in ['s']:\n",
    "        return 'Charlotte Bobcats'\n",
    "    else: \n",
    "        return x\n",
    "def convert_mp(x):\n",
    "    if type(x) == float: \n",
    "        return None\n",
    "    elif x in ['Did Not Play', 'Did Not Dress', 'Not With Team', 'Player Suspended']:\n",
    "        return None\n",
    "    else:\n",
    "        x = x.split(':')\n",
    "        x = float('.'.join(x))\n",
    "        return x\n",
    "def convert_fg(x):\n",
    "    if type(x) == float:\n",
    "        return None\n",
    "    elif x in ['Did Not Play', 'Did Not Dress', 'Not With Team', 'Player Suspended']:\n",
    "        return None\n",
    "    else:\n",
    "        return int(x)\n",
    "columns = ['Player', 'Date', 'Team', 'Against', 'Home', 'MP', 'FG', 'FGA', \n",
    "           'FG%', '3P', '3PA', '3P%', 'FT', 'FTA', 'FT%', 'ORB', 'DRB',\n",
    "           'TRB', 'AST', 'STL', 'BLK', 'TOV', 'PF', 'PTS', '+/-', 'GameLink']\n",
    "df_team_cleaned = {}\n",
    "for csv_path in file_paths:\n",
    "    new_path = f'{data_dir}/{csv_path}'\n",
    "    df = pd.read_csv(new_path)\n",
    "    df['Team'] = df.Team.map(convert_teams)\n",
    "    df['Against'] = df.Against.map(convert_teams)\n",
    "    df['Date'] = pd.to_datetime(df.Date)\n",
    "    df['MP'] = df.MP.map(convert_mp)\n",
    "    df['FG'] = df.FG.map(convert_fg)\n",
    "    df_team_cleaned[csv_path] = df\n",
    "    df.to_csv(f'{cleaned_data_dir}/{csv_path}', index = False)\n",
    "    \n",
    "    "
   ]
  },
  {
   "cell_type": "code",
   "execution_count": null,
   "id": "tired-franklin",
   "metadata": {},
   "outputs": [],
   "source": [
    "df_team_cleaned['/home/samuel-linux/PycharmProjects/Personal/FantasyBasketball/Data/bbref-files/2019-20.csv'].head()"
   ]
  }
 ],
 "metadata": {
  "kernelspec": {
   "display_name": "DeepHoops",
   "language": "python",
   "name": "deephoops"
  },
  "language_info": {
   "codemirror_mode": {
    "name": "ipython",
    "version": 3
   },
   "file_extension": ".py",
   "mimetype": "text/x-python",
   "name": "python",
   "nbconvert_exporter": "python",
   "pygments_lexer": "ipython3",
   "version": "3.8.5"
  }
 },
 "nbformat": 4,
 "nbformat_minor": 5
}
