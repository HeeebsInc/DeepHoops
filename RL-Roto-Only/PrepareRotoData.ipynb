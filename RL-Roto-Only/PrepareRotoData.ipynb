{
 "cells": [
  {
   "cell_type": "code",
   "execution_count": 1,
   "id": "reduced-matrix",
   "metadata": {},
   "outputs": [],
   "source": [
    "import pandas as pd\n",
    "import numpy as np\n",
    "import pickle\n",
    "import os"
   ]
  },
  {
   "cell_type": "code",
   "execution_count": 2,
   "id": "italian-bruce",
   "metadata": {},
   "outputs": [],
   "source": [
    "data_dir = '/home/samuel-linux/PycharmProjects/Personal/FantasyBasketball/Data/roto-files/cleaned'\n",
    "pickles_dir = '/home/samuel-linux/PycharmProjects/Personal/FantasyBasketball/Data/pickles'\n",
    "ignore = ['.ipynb_checkpoints']\n",
    "roto_files = [i for i in os.listdir(data_dir) if i not in ignore]"
   ]
  },
  {
   "cell_type": "code",
   "execution_count": null,
   "id": "annoying-dublin",
   "metadata": {},
   "outputs": [],
   "source": []
  }
 ],
 "metadata": {
  "kernelspec": {
   "display_name": "DeepHoops",
   "language": "python",
   "name": "deephoops"
  },
  "language_info": {
   "codemirror_mode": {
    "name": "ipython",
    "version": 3
   },
   "file_extension": ".py",
   "mimetype": "text/x-python",
   "name": "python",
   "nbconvert_exporter": "python",
   "pygments_lexer": "ipython3",
   "version": "3.8.5"
  }
 },
 "nbformat": 4,
 "nbformat_minor": 5
}
